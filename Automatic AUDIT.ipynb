{
    "metadata": {
        "kernelspec": {
            "name": "SQL",
            "display_name": "SQL",
            "language": "sql"
        },
        "language_info": {
            "name": "sql",
            "version": ""
        }
    },
    "nbformat_minor": 2,
    "nbformat": 4,
    "cells": [
        {
            "cell_type": "code",
            "source": [
                "-- USE BdcTrigger\n",
                "\n",
                "SELECT TOP 200 IdDDLEvents, EventDate, EventType, ObjectName, EventDDL,  ApplyDatabaseAudit from BdDDL.dbo.DDLEvents \n",
                "\t\tWHERE\tDatabaseName = 'bdctRIGGER' \n",
                "\t\t\t\tAND EventType IN ('CREATE_TABLE', 'ALTER_TABLE', 'RENAME', 'DROP_TABLE' ) \n",
                "\t\t\t\tAND ApplyDatabaseAudit = 0 \n",
                "                AND LoginName = 'uJoirRamalho' -- 'TCE\\67154832487'\n",
                "                -- AND IdDDLEvents = 60938\n",
                "ORDER BY EventDate desc"
            ],
            "metadata": {
                "azdata_cell_guid": "abba5541-cb52-4b03-afd7-2857e02eeb86",
                "tags": []
            },
            "outputs": [],
            "execution_count": null
        },
        {
            "cell_type": "code",
            "source": [
                "-- USE BdcTrigger_Audit\n",
                "\n",
                "SELECT * FROM _Migrate_Table_Audit"
            ],
            "metadata": {
                "azdata_cell_guid": "60f121ca-0bbf-41e0-a469-a2ac3f710472"
            },
            "outputs": [
                {
                    "output_type": "display_data",
                    "data": {
                        "text/html": "(0 rows affected)"
                    },
                    "metadata": {}
                },
                {
                    "output_type": "execute_result",
                    "execution_count": 25,
                    "data": {
                        "application/vnd.dataresource+json": {
                            "schema": {
                                "fields": [
                                    {
                                        "name": "IdMigrateTableAudit"
                                    },
                                    {
                                        "name": "IdDDLEvents"
                                    },
                                    {
                                        "name": "EventType"
                                    },
                                    {
                                        "name": "ObjectName"
                                    },
                                    {
                                        "name": "EventDateMigrate"
                                    },
                                    {
                                        "name": "ResultMessage"
                                    },
                                    {
                                        "name": "Success"
                                    }
                                ]
                            },
                            "data": []
                        },
                        "text/html": "<table><tr><th>IdMigrateTableAudit</th><th>IdDDLEvents</th><th>EventType</th><th>ObjectName</th><th>EventDateMigrate</th><th>ResultMessage</th><th>Success</th></tr></table>"
                    },
                    "metadata": {}
                },
                {
                    "output_type": "display_data",
                    "data": {
                        "text/html": "Total execution time: 00:00:00.019"
                    },
                    "metadata": {}
                }
            ],
            "execution_count": 25
        },
        {
            "cell_type": "code",
            "source": [
                "USE [BdcTrigger]\n",
                "GO\n",
                "\n",
                "EXEC master.dbo.sp_MigrateTableAudit_BETA @db = 'bdcTrigger'\n",
                "\n",
                "-- EXEC master.dbo.sp_CreateTriggerAudit_BETA @db = 'bdcTrigger', @opcao = 0\n",
                "\n",
                "\n",
                "\n",
                "-- EXEC master.dbo.sp_MigrateTableAudit @db = 'bdcTrigger' --, @opcao = 1\n",
                "\n",
                "-- EXEC master.dbo.sp_CreateTriggerAudit @db = 'bdcTrigger', @opcao = 1"
            ],
            "metadata": {
                "azdata_cell_guid": "8e28e3e4-b492-4d27-af0e-416c77c3681b",
                "tags": []
            },
            "outputs": [
                {
                    "output_type": "display_data",
                    "data": {
                        "text/html": "Commands completed successfully."
                    },
                    "metadata": {}
                }
            ],
            "execution_count": 28
        },
        {
            "cell_type": "code",
            "source": [
                "-- sp_Help & sp_helpindex & sp_HelpText\n",
                "-- EXEC  [BdcTrigger].dbo.sp_Help 'Seg_Operador'\n",
                "\n",
                "EXEC  [BdcTrigger].dbo.sp_HelpText 'tg_Seg_Operador_audit'\n",
                "\n",
                "-- EXEC  [BdcTrigger_Audit].dbo.sp_Help 'Seg_Operador'\n",
                "\n",
                "-- EXEC  [BdcTrigger_Audit].dbo.sp_helpindex 'Seg_Operador'\n",
                "\n",
                "-- EXEC  [ServerName].[DatabaseName].dbo.sp_HelpText 'storedProcName'"
            ],
            "metadata": {
                "azdata_cell_guid": "2e4c8c64-f423-4c24-89bf-cbdb5a69653c",
                "tags": [
                    "hide_input"
                ]
            },
            "outputs": [],
            "execution_count": null
        },
        {
            "cell_type": "code",
            "source": [
                "-- sp_MigrateTableAudit\n",
                "USE [master]\n",
                "GO\n",
                "/****** Object:  StoredProcedure [dbo].[BdAudit]    Script Date: 21/05/2020 11:08:29 ******/\n",
                "SET ANSI_NULLS ON\n",
                "GO\n",
                "SET QUOTED_IDENTIFIER ON\n",
                "GO\n",
                "\n",
                "-- 22Junho V1.05\n",
                "\n",
                "-- EXEC Master.dbo.sp_MigrateTableAudit @db = 'bdcTrigger'\n",
                "\n",
                "ALTER PROCEDURE [dbo].[sp_MigrateTableAudit]\n",
                "\t@db\tVARCHAR(128)\n",
                "AS\n",
                "BEGIN\n",
                "\tPRINT 'VERSAO ORIGINAL 9' -- LIMPEZA\n",
                "\t\n",
                "\tSET NOCOUNT ON\n",
                "\n",
                "\tDECLARE\t@IdDDLEvents\tINT\n",
                "\tDECLARE @EventType\t\tVARCHAR(32)\n",
                "\tDECLARE @Tb\t\t\t\tVARCHAR(128)\n",
                "\tDECLARE @TSQL\t\t\tnVARCHAR(MAX)\n",
                "\n",
                "\tDECLARE @ExecDb \t\tnVARCHAR(max) = QUOTENAME( @db ) \t\t\t+ N'.sys.sp_executesql'\n",
                "\tDECLARE @ExecDbAudit \tnVARCHAR(max) = QUOTENAME( @db + '_audit' ) + N'.sys.sp_executesql'\n",
                "\n",
                "\tDECLARE @TbRename\t\tVARCHAR(128)\n",
                "\n",
                "\tDECLARE @CamposAudit\tVARCHAR(MAX) = ''\n",
                "\n",
                "\tDECLARE @Trigger\t\tnVARCHAR(MAX)\n",
                "\n",
                "\tCREATE TABLE #tmpTabelas\t( IdDDLEvents INT, EventType VARCHAR(32), ObjectName VARCHAR(128), EventDDL nVARCHAR(max) )\n",
                "    CREATE TABLE #tmpTrigger    ( TriggerName   VARCHAR(128) )\n",
                "    CREATE TABLE #tmpCampos\t    ( Campos        VARCHAR(128) )\n",
                "\n",
                "\n",
                "\tINSERT INTO #tmpTabelas\n",
                "\t\tSELECT\tIdDDLEvents, EventType, ObjectName, EventDDL\n",
                "\t\tFROM\tBdDDL.dbo.DDLEvents \n",
                "\t\tWHERE\tDatabaseName = @db\n",
                "\t\t\t\tAND EventType IN ('CREATE_TABLE', 'ALTER_TABLE', 'RENAME', 'DROP_TABLE' ) \n",
                "\t\t\t\tAND ApplyDatabaseAudit = 0 \n",
                "\t\tORDER BY IdDDLEvents\n",
                "\n",
                "\n",
                "\tWHILE ( SELECT COUNT(*) FROM #tmpTabelas ) > 0\n",
                "        BEGIN\n",
                "            SELECT\tTOP 1 @IdDDLEvents = IdDDLEvents, @EventType = EventType, @Tb = ObjectName, @TSQL = EventDDL\n",
                "            FROM\t#tmpTabelas\n",
                "            ORDER   BY IdDDLEvents\n",
                "\n",
                "\n",
                "            IF LEFT ( @tb, 4 ) = 'Tmp_' \n",
                "                SET @Tb = RTRIM( SUBSTRING( @Tb, 5, 128 ) )\n",
                "\n",
                "\n",
                "            SET @TSQL = REPLACE ( @TSQL , 'IDENTITY (1, 1)' , '' )\n",
                "            SET @TSQL = REPLACE ( @TSQL , 'NOT' , '' )\n",
                "\n",
                "    \n",
                "            BEGIN TRY\n",
                "                IF @EventType IN ( 'ALTER_TABLE', 'DROP_TABLE' )\n",
                "                    BEGIN\n",
                "                        IF CHARINDEX('ADD CONSTRAINT', @TSQL ) = 0 AND CHARINDEX('DROP CONSTRAINT', @TSQL ) = 0\n",
                "                            EXEC\t@ExecDbAudit @TSQL\n",
                "                    END\n",
                "\n",
                "            \n",
                "                ELSE IF @EventType IN ( 'RENAME' )\n",
                "                    BEGIN\n",
                "                        IF  CHARINDEX('COLUMN', @TSQL ) > 0 -- RENAME COLUMN -- DROP TRIGGER TABELA BASE\n",
                "                            BEGIN\n",
                "                                SET @TbRename\t= SUBSTRING( @TSQL, CHARINDEX('.', @TSQL ) + 1, LEN( @TSQL ) - CHARINDEX('.', @TSQL ) - CHARINDEX('.', REVERSE( @TSQL ) ) )\n",
                "\n",
                "                                SET\t@Trigger\t= 'SELECT o.name FROM sys.triggers AS t INNER JOIN sys.objects AS o  ON t.parent_id = o.object_id WHERE o.name = @TbRename';    \n",
                "\n",
                "                                DELETE #tmpTrigger\n",
                "\n",
                "                                INSERT INTO #tmpTrigger\n",
                "                                    EXEC\t@ExecDb @Trigger, N'@TbRename varchar(128)', @TbRename;\n",
                "\n",
                "                                IF\tEXISTS ( SELECT * FROM #tmpTrigger )\n",
                "                                    BEGIN\n",
                "                                        SET\t\t@Trigger = 'DROP TRIGGER dbo.tg_' + @TbRename + '_audit';\n",
                "                            \n",
                "                                        EXEC\t@ExecDb @Trigger\n",
                "                                    END\n",
                "                            END\n",
                "\n",
                "                        EXEC\t@ExecDbAudit @TSQL\n",
                "                    END\n",
                "\n",
                "\n",
                "\n",
                "                ELSE IF @EventType IN ( 'CREATE_TABLE' ) AND CHARINDEX('Tmp_', @TSQL ) > 0\n",
                "                    BEGIN                   \n",
                "                        EXEC\t@ExecDbAudit @TSQL\t-- Nova tabela Tmp  --\tSET\t\t@TSQL = 'SELECT * INTO ' + @db + '_Audit' + '.dbo.Tmp_' + @Tb + ' FROM ' + @db + '.dbo.' + @Tb + ' WHERE 1 = 2';\t\t      \n",
                "\n",
                "                        \n",
                "                        SET\t\t@TSQL = 'ALTER TABLE ' + @db + '_Audit' + '.dbo.Tmp_' + @Tb + ' ADD _Audit_Operacao char(1) NOT NULL, _Audit_UsuarioConexao varchar(20) NOT NULL, _Audit_DataConexao datetime NOT NULL';\t\t      \n",
                "\n",
                "                        EXEC\t@ExecDbAudit @TSQL  -- ADD Campos _Audit no final\n",
                "\n",
                "                        SET\t\t@TSQL = 'SELECT COLUMN_NAME FROM INFORMATION_SCHEMA.COLUMNS WHERE TABLE_NAME = @Tb'; \n",
                "\n",
                "                        DELETE  #tmpCampos\n",
                "\n",
                "                        INSERT INTO #tmpCampos\n",
                "                            EXEC\t@ExecDbAudit @TSQL, N'@tb VARCHAR(128)', @Tb; -- GET Campos de _Audit\n",
                "\n",
                "                        SELECT\t@CamposAudit\t= @CamposAudit + Campos + ', ' FROM #tmpCampos\n",
                "                        SET\t\t@CamposAudit\t= SUBSTRING( @CamposAudit, 0, LEN( @CamposAudit ));\n",
                "\n",
                "\n",
                "                        SET\t\t@TSQL = 'INSERT INTO ' + @db + '_Audit' + '.dbo.Tmp_' + @Tb + ' ( ' + @CamposAudit + ' ) SELECT ' + @CamposAudit + ' FROM ' + @db + '_Audit' + '.dbo.' + @Tb + ' WITH (HOLDLOCK TABLOCKX)';\n",
                "\n",
                "                        EXEC\t@ExecDbAudit @TSQL  -- INSERT tabela atual de _Audit na Tmp_*\n",
                "               \n",
                "                        SET\t@Trigger\t= 'SELECT o.name FROM sys.triggers AS t INNER JOIN sys.objects AS o  ON t.parent_id = o.object_id WHERE o.name = @Tb';    \n",
                "\n",
                "                        DELETE  #tmpTrigger\n",
                "\n",
                "                        INSERT INTO #tmpTrigger\n",
                "                            EXEC\t@ExecDb @Trigger, N'@Tb varchar(128)', @Tb;\n",
                "\n",
                "                        IF\tEXISTS ( SELECT * FROM #tmpTrigger )\n",
                "                            BEGIN\n",
                "                                SET\t\t@Trigger = 'DROP TRIGGER dbo.tg_' + @Tb + '_audit';\n",
                "                \n",
                "                                EXEC\t@ExecDb @Trigger\n",
                "                            END\n",
                "                END\n",
                "\n",
                "                --- FINAL\n",
                "                SET\t\t@TSQL = N'UPDATE BdDDL.dbo.DDLEvents SET ApplyDatabaseAudit = 1 WHERE IdDDLEvents = @Id;';\n",
                "\n",
                "                EXEC\t@ExecDb @TSQL, N'@Id int', @IdDDLEvents;\n",
                "\n",
                "                DELETE FROM  #tmpTabelas WHERE  IdDDLEvents = @IdDDLEvents\n",
                "            END TRY\n",
                "            BEGIN CATCH\n",
                "                PRINT\tERROR_MESSAGE()\n",
                "            END CATCH\n",
                "        END\n",
                "END\n",
                ""
            ],
            "metadata": {
                "azdata_cell_guid": "ec7b5a3d-8352-4acc-af0c-2eac1ec46371",
                "tags": []
            },
            "outputs": [],
            "execution_count": null
        },
        {
            "cell_type": "code",
            "source": [
                "-- RESTORE   BDC\n",
                "\n",
                "USE [master]\n",
                "ALTER DATABASE [BdcTrigger] SET SINGLE_USER WITH ROLLBACK IMMEDIATE\n",
                "    RESTORE DATABASE [BdcTrigger] FROM  DISK = N'\\\\fsbkp\\sql\\PRD-SQL02S\\Bdc\\Bdc.BAK' WITH  FILE = 1,  MOVE N'Bdc' TO N'E:\\Feature\\BdcTrigger.mdf',  MOVE N'Bdc_log' TO N'E:\\Feature\\BdcTrigger_log.ldf',  replace, NOUNLOAD,  STATS = 50\n",
                "ALTER DATABASE [BdcTrigger] SET MULTI_USER\n",
                "\n",
                "ALTER DATABASE [BdcTrigger_Audit] SET SINGLE_USER WITH ROLLBACK IMMEDIATE\n",
                "RESTORE DATABASE [BdcTrigger_Audit] FROM  DISK = N'\\\\fsbkp\\sql\\PRD-SQL02S\\Bdc_Audit\\Bdc_Audit.BAK' WITH  FILE = 1,  MOVE N'Bdc_Audit' TO N'E:\\Feature\\BdcTrigger_Audit.mdf',  MOVE N'Bdc_Audit_log' TO N'E:\\Feature\\BdcTrigger_Audit_log.ldf',  replace, NOUNLOAD,  STATS = 50\n",
                "ALTER DATABASE [BdcTrigger_Audit] SET MULTI_USER\n",
                "\n",
                "-- EXEC master.dbo.sp_CreateTriggerAudit @db = 'BdcTrigger', @opcao = 1\n",
                "\n",
                "UPDATE BdDDL.dbo.DDLEvents SET ApplyDatabaseAudit = 1 WHERE ApplyDatabaseAudit = 0 -- IdDDLEvents = 62876"
            ],
            "metadata": {
                "azdata_cell_guid": "3e40d349-7546-4b9d-9f1b-7f4255319151",
                "tags": []
            },
            "outputs": [
                {
                    "output_type": "display_data",
                    "data": {
                        "text/html": "Nonqualified transactions are being rolled back. Estimated rollback completion: 0%."
                    },
                    "metadata": {}
                },
                {
                    "output_type": "display_data",
                    "data": {
                        "text/html": "Nonqualified transactions are being rolled back. Estimated rollback completion: 100%."
                    },
                    "metadata": {}
                },
                {
                    "output_type": "display_data",
                    "data": {
                        "text/html": "51 percent processed."
                    },
                    "metadata": {}
                },
                {
                    "output_type": "display_data",
                    "data": {
                        "text/html": "100 percent processed."
                    },
                    "metadata": {}
                },
                {
                    "output_type": "display_data",
                    "data": {
                        "text/html": "Processed 6400 pages for database 'BdcTrigger', file 'Bdc' on file 1."
                    },
                    "metadata": {}
                },
                {
                    "output_type": "display_data",
                    "data": {
                        "text/html": "Processed 2 pages for database 'BdcTrigger', file 'Bdc_log' on file 1."
                    },
                    "metadata": {}
                },
                {
                    "output_type": "display_data",
                    "data": {
                        "text/html": "RESTORE DATABASE successfully processed 6402 pages in 0.209 seconds (239.281 MB/sec)."
                    },
                    "metadata": {}
                },
                {
                    "output_type": "display_data",
                    "data": {
                        "text/html": "52 percent processed."
                    },
                    "metadata": {}
                },
                {
                    "output_type": "display_data",
                    "data": {
                        "text/html": "100 percent processed."
                    },
                    "metadata": {}
                },
                {
                    "output_type": "display_data",
                    "data": {
                        "text/html": "Processed 1696 pages for database 'BdcTrigger_Audit', file 'Bdc_Audit' on file 1."
                    },
                    "metadata": {}
                },
                {
                    "output_type": "display_data",
                    "data": {
                        "text/html": "Processed 2 pages for database 'BdcTrigger_Audit', file 'Bdc_Audit_log' on file 1."
                    },
                    "metadata": {}
                },
                {
                    "output_type": "display_data",
                    "data": {
                        "text/html": "RESTORE DATABASE successfully processed 1698 pages in 0.125 seconds (106.066 MB/sec)."
                    },
                    "metadata": {}
                },
                {
                    "output_type": "display_data",
                    "data": {
                        "text/html": "(224 rows affected)"
                    },
                    "metadata": {}
                },
                {
                    "output_type": "display_data",
                    "data": {
                        "text/html": "Total execution time: 00:00:03.979"
                    },
                    "metadata": {}
                }
            ],
            "execution_count": 13
        },
        {
            "cell_type": "code",
            "source": [
                "-- sp_CreateTriggerAudit\n",
                "USE master\n",
                "GO\n",
                "\n",
                "-- 18Junho20 V1.05\n",
                "\n",
                "-- EXEC master.dbo.sp_CreateTriggerAudit @db = 'bdcTrigger', @opcao = 1\n",
                "\n",
                "ALTER PROCEDURE [dbo].[sp_CreateTriggerAudit] \n",
                "\t@db\t\tVARCHAR(128),\n",
                "\t@opcao\ttinyint = 0 -- 0-Apenas tabelas alteradas; 1 - Geral\n",
                "AS\n",
                "BEGIN\n",
                "\tPRINT 'VERSAO ORIGINAL 1' -- _Audit_\n",
                "\n",
                "\tSET NOCOUNT ON\n",
                "\n",
                "\tDECLARE @Tb\t\t\t\tVARCHAR(128)\n",
                "\tDECLARE @NomeTrigger\tVARCHAR(128)\n",
                "\tDECLARE @NomeTbAudit\tVARCHAR(128)\n",
                "\n",
                "\tDECLARE @CamposAudit\tVARCHAR(MAX)\n",
                "\tDECLARE @CamposSelect\tVARCHAR(MAX)\n",
                "\n",
                "\tDECLARE @exec\t\t\tnVARCHAR(MAX)\n",
                "\tDECLARE @TSQL\t\t\tnVARCHAR(MAX)\n",
                "\n",
                "\tDECLARE @Trigger\t\tnVARCHAR(MAX)\n",
                "\n",
                "\n",
                "\t\n",
                "\tSET\t@exec = QUOTENAME( @db ) + N'.sys.sp_executesql' -- Banco BASE\n",
                "\n",
                "\n",
                "\t-- TABELAS\n",
                "\tIF\tOBJECT_ID('tempdb..#tmpTabelas') IS NOT NULL\n",
                "\t\tDROP TABLE #tmpTabelas\n",
                "\n",
                "\tCREATE TABLE #tmpTabelas\t( Tb VARCHAR(128), NomeTrigger VARCHAR(128), NomeTbAudit VARCHAR(128) )\n",
                "\n",
                "\tIF @opcao = 0 -- Gerar triggers APENAS tabelas que foram atualizadas\n",
                "\t\tSET\t\t@TSQL = 'SELECT\tt.name, tg.name, ( SELECT ta.name from ' + quotename( @db + '_Audit' ) + N'.sys.tables  ta WHERE ta.name = t.name) FROM ' + quotename(@db) + N'.sys.tables t LEFT JOIN  sys.triggers tg ON tg.parent_id = t.object_id\tWHERE ( t.modify_date > tg.modify_date ) OR tg.name IS NULL'\n",
                "\tELSE -- Gerar triggers para todas as tabelas\n",
                "\t\tSET\t\t@TSQL = 'SELECT\tt.name, tg.name, ( SELECT ta.name from ' + quotename( @db + '_Audit' ) + N'.sys.tables  ta WHERE ta.name = t.name) FROM ' + quotename(@db) + N'.sys.tables t LEFT JOIN  sys.triggers tg ON tg.parent_id = t.object_id'\n",
                "\n",
                "\n",
                "\tINSERT INTO #tmpTabelas\n",
                "\t\tEXEC\t@exec @TSQL, N'@db VARCHAR(128)', @db;\n",
                "\n",
                "\n",
                "\t-- LIMPAR de #tmp Trigger de auditoria e do Flyway\n",
                "\tDELETE FROM  #tmpTabelas WHERE ( NomeTrigger LIKE '%_IR' ) OR ( Tb = '_flyway_schema_history_Audit' )\n",
                "\n",
                "--\tSELECT * FROM #tmpTabelas\n",
                "\n",
                "\tWHILE ( SELECT COUNT(*) FROM #tmpTabelas ) > 0\n",
                "\t\tBEGIN\n",
                "\t\t\tSET @CamposAudit\t= ''\n",
                "\t\t\tSET @CamposSelect\t= ''\n",
                "\n",
                "\n",
                "\t\t\tSELECT TOP 1 @Tb = Tb, @NomeTrigger = NomeTrigger, @NomeTbAudit = NomeTbAudit FROM #tmpTabelas\t ORDER BY Tb\n",
                "\n",
                "\t\t\tDELETE FROM  #tmpTabelas WHERE  Tb = @Tb\n",
                "\n",
                "\n",
                "\t\t\t-- CAMPOS\n",
                "\t\t\tIF OBJECT_ID('tempdb..#tmpCampos') IS NOT NULL\n",
                "\t\t\t\tDROP TABLE #tmpCampos\n",
                "\n",
                "\t\t\tCREATE TABLE #tmpCampos\t( Campos VARCHAR(128) )\n",
                "\n",
                "\t\t\tSET\t\t@TSQL = 'SELECT COLUMN_NAME FROM INFORMATION_SCHEMA.COLUMNS WHERE TABLE_NAME = @Tb'; \n",
                "\n",
                "\t\t\tINSERT INTO #tmpCampos\n",
                "\t\t\t\tEXEC\t@exec @TSQL, N'@tb VARCHAR(128)', @Tb;\n",
                "\n",
                "\t\t\tSELECT\t@CamposAudit\t= @CamposAudit + Campos + ', ' FROM #tmpCampos\n",
                "\t\t\tSET\t\t@CamposAudit\t= SUBSTRING( @CamposAudit, 0, LEN( @CamposAudit ));\n",
                "\n",
                "\t\t\tSET\t\t@CamposAudit\t= @CamposAudit + ', _Audit_Operacao, _Audit_UsuarioConexao, _Audit_DataConexao'\n",
                "\n",
                "\t\t\t-- CREATE Tb_Audit From TbBase\n",
                "\t\t\tIF @NomeTbAudit IS NULL \n",
                "\t\t\t\tBEGIN\n",
                "\t\t\t\t\tSET\t\t@TSQL = 'SELECT * INTO ' + @db + '_Audit' + '.dbo.' + @Tb + ' FROM ' + @db + '.dbo.' + @Tb + ' WHERE 1 = 2';\t\t      \n",
                "\t\n",
                "\t\t\t\t\tEXEC\t@exec @TSQL\n",
                "\t\t\n",
                "\n",
                "\t\t\t\t\t-- ADD campos de audit\n",
                "\t\t\t\t\tSET\t\t@TSQL = 'ALTER TABLE ' + @db + '_Audit' + '.dbo.' + @Tb + ' ADD _Audit_Operacao char(1) NOT NULL, _Audit_UsuarioConexao varchar(20) NOT NULL, _Audit_DataConexao datetime NOT NULL';\t\t      \n",
                "\n",
                "\t\t\t\t\tEXEC\t@exec @TSQL\n",
                "\t\t\t\tEND\n",
                "\n",
                "\n",
                "\t\t\tIF @NomeTrigger IS NULL\n",
                "\t\t\t\tSET @Trigger = REPLACE ( 'CREATE TRIGGER [dbo].[tg_TableName_Audit] On [dbo].[TableName]', 'TableName' , @Tb ) + CHAR(10)\n",
                "\t\t\tELSE\n",
                "\t\t\t\tSET @Trigger = REPLACE ( 'ALTER TRIGGER [dbo].[tg_TableName_Audit] On [dbo].[TableName]', 'TableName' , @Tb ) + CHAR(10)\n",
                "\n",
                "\n",
                "\t\t\tSET @Trigger = @Trigger + 'FOR UPDATE, DELETE' + CHAR(10)\n",
                "\n",
                "\t\t\tSET @Trigger = @Trigger + 'AS' + CHAR(10)\n",
                "\n",
                "\t\t\tSET @Trigger = @Trigger + REPLACE ( 'INSERT INTO [BdBase_Audit].[dbo].[TableName]', 'TableName' , @Tb ) \n",
                "\n",
                "\t\t\tSET @Trigger = REPLACE ( @Trigger, 'BdBase' , @db )\n",
                "\n",
                "\t\t\tSET @Trigger = @Trigger + REPLACE ( ' ( Campos', 'Campos' , @CamposAudit ) + ' )' + CHAR(10)\n",
                "\n",
                "\t\t\tSET @CamposSelect = @CamposAudit\n",
                "\n",
                "\t\t\tSET @CamposSelect = REPLACE ( '\tSELECT Campos', 'Campos' , @CamposSelect )\n",
                "\n",
                "\t\t\tSET @CamposSelect = REPLACE ( @CamposSelect, 'IdSessaoOperacao,',\t    '( SELECT TOP 1 IdSessaoOperacao FROM inserted ),' )\n",
                "\t\t\tSET @CamposSelect = REPLACE ( @CamposSelect, '_Audit_Operacao,',\t\t'IIF(EXISTS(SELECT * FROM Inserted),''U'',''D''),' )\n",
                "\t\t\tSET @CamposSelect = REPLACE ( @CamposSelect, '_Audit_UsuarioConexao,',\t'SUSER_SNAME(),' )\n",
                "\t\t\tSET @CamposSelect = REPLACE ( @CamposSelect, '_Audit_DataConexao',\t\t'GETDATE()' ) + ' FROM deleted' + CHAR(10)\n",
                "\n",
                "\n",
                "\t\t\tSET @Trigger = @Trigger + @CamposSelect\n",
                "\n",
                "\n",
                "\t\t\tBEGIN TRY\n",
                "\t\t\t\tEXEC\t@exec @Trigger\t\t\n",
                "\t\t\tEND TRY\n",
                "\t\t\tBEGIN CATCH\n",
                "\t\t\t \tPRINT\t@trigger\n",
                "\n",
                "\t\t\t\tPRINT\tERROR_MESSAGE()\n",
                "\t\t\tEND CATCH\n",
                "\n",
                "\t\tEND\n",
                "END"
            ],
            "metadata": {
                "azdata_cell_guid": "d6626ceb-0588-45e3-82a1-227b53672960",
                "tags": [
                    "hide_input"
                ]
            },
            "outputs": [],
            "execution_count": null
        },
        {
            "cell_type": "code",
            "source": [
                "USE [BdcTrigger]\n",
                "GO\n",
                "\n",
                "EXEC master.dbo.sp_MigrateTableAudit_BETA @db = 'bdcTrigger'\n",
                "\n",
                "EXEC master.dbo.sp_CreateTriggerAudit_BETA @db = 'bdcTrigger', @opcao = 0\n",
                "\n",
                "--ALTER TABLE dbo.Seg_OperadorInternoSetor SET (LOCK_ESCALATION = TABLE)\n",
                "\n",
                "\n",
                "-- SELECT *  FROM [BdcTrigger_Audit].[dbo].[Seg_Operador]\n",
                "\n",
                "-- SELECT TOP 1000 *  FROM [BdcTrigger_Audit].[dbo].[_Migrate_Table_Audit] ORDER BY IdMigrateTableAudit DESC\n",
                "\n",
                "\n",
                "/*\n",
                "SELECT TOP 200 [IdDDLEvents]\n",
                "      ,[EventDate]      ,[EventType]      ,[EventDDL]      ,[DatabaseName]      ,[ObjectName]\n",
                "--      ,[HostName]\n",
                "      ,[ProgramName]      ,[LoginName]      ,[ApplyDatabaseAudit]\n",
                "  FROM [BdDDL].[dbo].[DDLEvents]\n",
                "  WHERE DatabaseName = 'BdcTrigger' AND EventType IN ('CREATE_TABLE', 'ALTER_TABLE', 'RENAME', 'DROP_TABLE' ) \n",
                "  order by IdDDLEvents DESC\n",
                "*/\n",
                ""
            ],
            "metadata": {
                "azdata_cell_guid": "eb3f43fd-d08f-412f-b4ff-b4c1f4fa535f"
            },
            "outputs": [],
            "execution_count": null
        },
        {
            "cell_type": "code",
            "source": [
                "USE [PROCESSOTrigger_Audit]\n",
                "GO\n",
                "-- USE [BdcTrigger_Audit]\n",
                "-- GO\n",
                "\n",
                "/****** Object:  Table [dbo].[_Migrate_Table_Audit]    Script Date: 22/06/2020 16:50:43 ******/\n",
                "SET ANSI_NULLS ON\n",
                "GO\n",
                "\n",
                "SET QUOTED_IDENTIFIER ON\n",
                "GO\n",
                "\n",
                "SET ANSI_PADDING ON\n",
                "GO\n",
                "\n",
                "CREATE TABLE [dbo].[_Migrate_Table_Audit](\n",
                "\t[IdMigrateTableAudit] [int] IDENTITY(1,1) NOT NULL,\n",
                "\t[IdDDLEvents] [int] NOT NULL,\n",
                "\t[EventType] [varchar](32) NOT NULL,\n",
                "\t[ObjectName] [varchar](128) NOT NULL,\n",
                "\t[EventDateMigrate] [datetime] NOT NULL,\n",
                "\t[ResultMessage] [varchar](2048) NOT NULL,\n",
                "\t[Success] [bit] NOT NULL,\n",
                " CONSTRAINT [PK__MigrateTableAudit] PRIMARY KEY CLUSTERED \n",
                "(\n",
                "\t[IdMigrateTableAudit] ASC\n",
                ")WITH (PAD_INDEX = OFF, STATISTICS_NORECOMPUTE = OFF, IGNORE_DUP_KEY = OFF, ALLOW_ROW_LOCKS = ON, ALLOW_PAGE_LOCKS = ON) ON [PRIMARY]\n",
                ") ON [PRIMARY]\n",
                "\n",
                "GO\n",
                "\n",
                "SET ANSI_PADDING ON\n",
                "GO\n",
                "\n",
                "ALTER TABLE [dbo].[_Migrate_Table_Audit] ADD  CONSTRAINT [DF__Migrate_Table_Audit_IdDDLEvents]  DEFAULT ((0)) FOR [IdDDLEvents]\n",
                "GO\n",
                "\n",
                "ALTER TABLE [dbo].[_Migrate_Table_Audit] ADD  CONSTRAINT [DF__Migrate_Table_Audit_EventDateMigrate]  DEFAULT (getdate()) FOR [EventDateMigrate]\n",
                "GO\n",
                "\n",
                "ALTER TABLE [dbo].[_Migrate_Table_Audit] ADD  CONSTRAINT [DF__Migrate_Table_Audit_Success]  DEFAULT ((1)) FOR [Success]\n",
                "GO\n",
                ""
            ],
            "metadata": {
                "azdata_cell_guid": "352f62a1-9428-4f0b-9ce2-004f09d23e2b",
                "tags": []
            },
            "outputs": [
                {
                    "output_type": "display_data",
                    "data": {
                        "text/html": "Commands completed successfully."
                    },
                    "metadata": {}
                },
                {
                    "output_type": "display_data",
                    "data": {
                        "text/html": "Commands completed successfully."
                    },
                    "metadata": {}
                },
                {
                    "output_type": "display_data",
                    "data": {
                        "text/html": "Commands completed successfully."
                    },
                    "metadata": {}
                },
                {
                    "output_type": "display_data",
                    "data": {
                        "text/html": "Commands completed successfully."
                    },
                    "metadata": {}
                },
                {
                    "output_type": "display_data",
                    "data": {
                        "text/html": "Commands completed successfully."
                    },
                    "metadata": {}
                },
                {
                    "output_type": "display_data",
                    "data": {
                        "text/html": "Commands completed successfully."
                    },
                    "metadata": {}
                },
                {
                    "output_type": "display_data",
                    "data": {
                        "text/html": "Commands completed successfully."
                    },
                    "metadata": {}
                },
                {
                    "output_type": "display_data",
                    "data": {
                        "text/html": "Commands completed successfully."
                    },
                    "metadata": {}
                },
                {
                    "output_type": "display_data",
                    "data": {
                        "text/html": "Commands completed successfully."
                    },
                    "metadata": {}
                },
                {
                    "output_type": "display_data",
                    "data": {
                        "text/html": "Total execution time: 00:00:00.605"
                    },
                    "metadata": {}
                }
            ],
            "execution_count": 1
        },
        {
            "cell_type": "code",
            "source": [
                "EXEC master.dbo.sp_CreateTriggerAudit_BETA @db = 'bdcTrigger', @opcao = 0"
            ],
            "metadata": {
                "azdata_cell_guid": "d6c0e624-cab9-47b0-b573-f4c6defca2bc"
            },
            "outputs": [
                {
                    "output_type": "display_data",
                    "data": {
                        "text/html": "*** BETA V1.07 - 01Julho20"
                    },
                    "metadata": {}
                },
                {
                    "output_type": "execute_result",
                    "execution_count": 15,
                    "data": {
                        "application/vnd.dataresource+json": {
                            "schema": {
                                "fields": [
                                    {
                                        "name": "EventType"
                                    },
                                    {
                                        "name": "ObjectName"
                                    },
                                    {
                                        "name": "ResultMessage"
                                    },
                                    {
                                        "name": "Success"
                                    }
                                ]
                            },
                            "data": []
                        },
                        "text/html": "<table><tr><th>EventType</th><th>ObjectName</th><th>ResultMessage</th><th>Success</th></tr></table>"
                    },
                    "metadata": {}
                },
                {
                    "output_type": "display_data",
                    "data": {
                        "text/html": "Total execution time: 00:00:00.746"
                    },
                    "metadata": {}
                }
            ],
            "execution_count": 15
        },
        {
            "cell_type": "code",
            "source": [
                "---------- Reset SQL user account guids ---------------------\n",
                "\n",
                "USE BdcTrigger\n",
                "\n",
                "DECLARE @UserName nvarchar(255) \n",
                "\n",
                "DECLARE orphanuser_cur cursor for \n",
                "      SELECT UserName = su.name \n",
                "      FROM sysusers su JOIN sys.server_principals sp ON sp.name = su.name\n",
                "      WHERE issqluser = 1 AND (su.sid IS NOT NULL AND su.sid <> 0x0) AND suser_sname(su.sid) is null \n",
                "      ORDER BY su.name \n",
                "OPEN orphanuser_cur \n",
                "FETCH NEXT FROM orphanuser_cur INTO @UserName \n",
                "\n",
                "WHILE (@@fetch_status = 0)\n",
                "BEGIN \n",
                "        PRINT @UserName + ' user name being resynced' \n",
                "        EXEC sp_change_users_login 'Update_one', @UserName, @UserName \n",
                "FETCH NEXT FROM orphanuser_cur INTO @UserName \n",
                "END \n",
                "\n",
                "CLOSE orphanuser_cur \n",
                "DEALLOCATE orphanuser_cur\n",
                "---\n",
                "\n",
                "---------- Reset SQL user account guids ---------------------\n",
                "USE BdcTrigger_Audit\n",
                "\n",
                "--DECLARE @UserName nvarchar(255) \n",
                "DECLARE orphanuser_cur cursor for \n",
                "      SELECT UserName = su.name \n",
                "      FROM sysusers su JOIN sys.server_principals sp ON sp.name = su.name\n",
                "      WHERE issqluser = 1 AND (su.sid IS NOT NULL AND su.sid <> 0x0) AND suser_sname(su.sid) is null \n",
                "      ORDER BY su.name \n",
                "OPEN orphanuser_cur \n",
                "FETCH NEXT FROM orphanuser_cur INTO @UserName \n",
                "\n",
                "WHILE (@@fetch_status = 0)\n",
                "BEGIN \n",
                "        PRINT @UserName + ' user name being resynced' \n",
                "        EXEC sp_change_users_login 'Update_one', @UserName, @UserName \n",
                "FETCH NEXT FROM orphanuser_cur INTO @UserName \n",
                "END \n",
                "\n",
                "CLOSE orphanuser_cur \n",
                "DEALLOCATE orphanuser_cur\n",
                ""
            ],
            "metadata": {
                "azdata_cell_guid": "4ba13fe9-1ce1-47b2-8f92-195d300e36dd",
                "tags": []
            },
            "outputs": [],
            "execution_count": null
        },
        {
            "cell_type": "code",
            "source": [
                "-- RENAME _Audits\n",
                "-- SELECT  'EXECUTE sp_rename ' + quotename(name) + ', ' + quotename( SUBSTRING( name, 1, LEN( name ) - 6 ) ) FROM sys.tables "
            ],
            "metadata": {
                "azdata_cell_guid": "49147da0-f879-4e18-831d-235b69d8b086",
                "tags": []
            },
            "outputs": [],
            "execution_count": null
        }
    ]
}