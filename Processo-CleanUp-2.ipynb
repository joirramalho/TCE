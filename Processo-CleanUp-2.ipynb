{
    "metadata": {
        "kernelspec": {
            "name": "SQL",
            "display_name": "SQL",
            "language": "sql"
        },
        "language_info": {
            "name": "sql",
            "version": ""
        }
    },
    "nbformat_minor": 2,
    "nbformat": 4,
    "cells": [
        {
            "cell_type": "code",
            "source": [
                "-- 1\n",
                "\n",
                "IF NOT EXISTS( SELECT * FROM sys.indexes WHERE name='IX_Processos_sigla_origem_ano_referencia_mes_referencia' AND object_id = OBJECT_ID('dbo.Processos') )\n",
                "BEGIN\n",
                "    CREATE INDEX [IX_Processos_sigla_origem_ano_referencia_mes_referencia] ON [Processo].[dbo].[Processos] ([sigla_origem], [ano_referencia], [mes_referencia])\n",
                "END"
            ],
            "metadata": {
                "azdata_cell_guid": "c46146f1-8f2a-45d8-9c14-4d4cceefdf1f"
            },
            "outputs": [],
            "execution_count": null
        },
        {
            "cell_type": "code",
            "source": [
                "-- 2\n",
                "\n",
                "IF EXISTS( SELECT * FROM sys.indexes WHERE name='PorSetor' AND object_id = OBJECT_ID('dbo.Apensados_Log') )\n",
                "BEGIN\n",
                "\tDROP INDEX [PorSetor] ON [dbo].[Apensados_Log];\n",
                "\n",
                "\tDROP INDEX [PorUsuario] ON [dbo].[Apensados_Log];\n",
                "\n",
                "\tDROP INDEX [por_TIPO_OPERACAO] ON [dbo].[Apensados_Log];\n",
                "END\n",
                "\n",
                "\n",
                "IF NOT EXISTS( SELECT * FROM sys.indexes WHERE name='IX_Apensados_Log_idinformacao' AND object_id = OBJECT_ID('dbo.Apensados_Log') )\n",
                "BEGIN\n",
                "    CREATE INDEX [IX_Apensados_Log_idinformacao] ON [Processo].[dbo].[Apensados_Log] ([idinformacao]) INCLUDE ([NUMERO_PROCESSO], [ANO_PROCESSO], [NUMERO_APENSADOR], [ANO_APENSADOR], [IdApensadosLog])\n",
                "END"
            ],
            "metadata": {
                "azdata_cell_guid": "4ca58a5a-15b3-4216-8238-fdc8ed5fec15"
            },
            "outputs": [],
            "execution_count": null
        },
        {
            "cell_type": "code",
            "source": [
                "-- 3\n",
                "\n",
                "IF NOT EXISTS( SELECT * FROM sys.indexes WHERE name='IX_Comunicacao_EnvioProcessoAnexo_IdEnvioProcesso' AND object_id = OBJECT_ID('dbo.Comunicacao_EnvioProcessoAnexo') )\n",
                "BEGIN\n",
                "    CREATE INDEX [IX_Comunicacao_EnvioProcessoAnexo_IdEnvioProcesso] ON [Processo].[dbo].[Comunicacao_EnvioProcessoAnexo] ([IdEnvioProcesso])\n",
                "END"
            ],
            "metadata": {
                "azdata_cell_guid": "a5f48f67-1300-4122-aea5-f2f509c6895e",
                "tags": []
            },
            "outputs": [],
            "execution_count": null
        },
        {
            "cell_type": "code",
            "source": [
                "-- 4\n",
                "\n",
                "IF NOT EXISTS( SELECT * FROM sys.indexes WHERE name='IX_Req_Tramitacao_idTramitacaoProxima_DataRecebimento_RecebidoPor' AND object_id = OBJECT_ID('dbo.Req_Tramitacao') )\n",
                "BEGIN\n",
                "    CREATE INDEX [IX_Req_Tramitacao_idTramitacaoProxima_DataRecebimento_RecebidoPor] ON [Processo].[dbo].[Req_Tramitacao] ([idTramitacaoProxima],[DataRecebimento], [RecebidoPor])\n",
                "END"
            ],
            "metadata": {
                "azdata_cell_guid": "b8991ffa-c65c-4986-b93e-748c9d5ca230"
            },
            "outputs": [],
            "execution_count": null
        },
        {
            "cell_type": "code",
            "source": [
                "-- 5\n",
                "\n",
                "IF EXISTS( SELECT * FROM sys.indexes WHERE name='por_ProcessoDataResumoSetor' AND object_id = OBJECT_ID('dbo.Ata_Informacao') )\n",
                "BEGIN\n",
                "\tDROP INDEX [ata_informacao_IdModelo] ON [dbo].[Ata_Informacao];\n",
                "\n",
                "\tDROP INDEX [ata_informacao_NomeInfNumProcAnoProc] ON [dbo].[Ata_Informacao];\n",
                "\n",
                "\tDROP INDEX [ata_informacao_SetorProcessoUsuarioDataUltima] ON [dbo].[Ata_Informacao];\n",
                "\n",
                "\tDROP INDEX [por_ProcessoDataResumoSetor] ON [dbo].[Ata_Informacao];\n",
                "\n",
                "\tDROP INDEX [por_setor_nome_informacao] ON [dbo].[Ata_Informacao];\n",
                "\n",
                "\tDROP INDEX [PorInformacaoSubstituida] ON [dbo].[Ata_Informacao];\n",
                "END"
            ],
            "metadata": {
                "azdata_cell_guid": "7b290fc9-b1d5-4b93-b415-a5c86c350b7e"
            },
            "outputs": [],
            "execution_count": null
        },
        {
            "cell_type": "code",
            "source": [
                "-- 6\n",
                "\n",
                "IF NOT EXISTS( SELECT * FROM sys.indexes WHERE name='IX_Ata_Informacao_setor_nome_informacao_Assinado_Publicado' AND object_id = OBJECT_ID('dbo.Ata_Informacao') )\n",
                "BEGIN\n",
                "    CREATE INDEX [IX_Ata_Informacao_setor_nome_informacao_Assinado_Publicado] ON [Processo].[dbo].[Ata_Informacao] ([setor], [nome_informacao], [Assinado], [Publicado]) INCLUDE ([numero_processo], [ano_processo], [DataInclusao])\n",
                "\n",
                "    CREATE INDEX [IX_Ata_Informacao_IdInformacaoSubstituida] ON [Processo].[dbo].[Ata_Informacao] ([IdInformacaoSubstituida]) INCLUDE ([idInformacao])\n",
                "END"
            ],
            "metadata": {
                "azdata_cell_guid": "d5e49c74-e2fd-4f07-ab83-3b7aced97c91"
            },
            "outputs": [],
            "execution_count": null
        },
        {
            "cell_type": "code",
            "source": [
                "-- 7\n",
                "\n",
                "IF EXISTS( SELECT * FROM sys.indexes WHERE name='PorIdContraCheque' AND object_id = OBJECT_ID('dbo.SiaiDp_FpContraChequeItem') )\n",
                "BEGIN\n",
                "\tDROP INDEX [PorIdContraCheque] ON [dbo].[SiaiDp_FpContraChequeItem];\n",
                "\n",
                "    CREATE INDEX [IX_SiaiDp_FpContraChequeItem_Idfpitemcontracheque] ON [Processo].[dbo].[SiaiDp_FpContraChequeItem] ([Idfpitemcontracheque]) INCLUDE ([idfpcontracheque], [valor])\n",
                "END"
            ],
            "metadata": {
                "azdata_cell_guid": "50bce3da-7938-4ec9-8ff7-bcb80c01ed9a"
            },
            "outputs": [],
            "execution_count": null
        },
        {
            "cell_type": "code",
            "source": [
                "-- 8\n",
                "\n",
                "IF EXISTS( SELECT * FROM sys.indexes WHERE name='PorIdPessoa' AND object_id = OBJECT_ID('dbo.Ger_ChamadoRespostaPessoa') )\n",
                "BEGIN\n",
                "\tDROP INDEX [PorIdPessoa] ON [dbo].[Ger_ChamadoRespostaPessoa];\n",
                "\n",
                "    CREATE INDEX [IX_Ger_ChamadoRespostaPessoa_IdPessoa_Visualizado] ON [Processo].[dbo].[Ger_ChamadoRespostaPessoa] ([IdPessoa], [Visualizado]) INCLUDE ([IdChamadosRespostas])\n",
                "END"
            ],
            "metadata": {
                "azdata_cell_guid": "855754aa-701c-49ca-8178-338dc2493e0e"
            },
            "outputs": [],
            "execution_count": null
        },
        {
            "cell_type": "code",
            "source": [
                "-- 9\n",
                "\n",
                "IF NOT EXISTS( SELECT * FROM sys.indexes WHERE name='IX_Cer_CertidaoLiberacaoCritica_CodigoOrgao_IdCertidaoLiberacaoCriticaTipo_Ativo_AnoInicial_DataInicial' AND object_id = OBJECT_ID('dbo.Cer_CertidaoLiberacaoCritica') )\n",
                "BEGIN\n",
                "    CREATE INDEX [IX_Cer_CertidaoLiberacaoCritica_CodigoOrgao_IdCertidaoLiberacaoCriticaTipo_Ativo_AnoInicial_DataInicial] ON [Processo].[dbo].[Cer_CertidaoLiberacaoCritica] ([CodigoOrgao], [IdCertidaoLiberacaoCriticaTipo], [Ativo], [AnoInicial],[DataInicial])\n",
                "END\n",
                ""
            ],
            "metadata": {
                "azdata_cell_guid": "25295122-abe3-472e-bbd8-39775b71ff50"
            },
            "outputs": [],
            "execution_count": null
        },
        {
            "cell_type": "code",
            "source": [
                "-- 10\n",
                "\n",
                "IF EXISTS( SELECT * FROM sys.indexes WHERE name='IX_Adm_Ponto_Banco_Horas_Data' AND object_id = OBJECT_ID('dbo.Adm_Ponto_Banco_Horas') )\n",
                "BEGIN\n",
                "\tDROP INDEX [IX_Adm_Ponto_Banco_Horas_Data] ON [dbo].[Adm_Ponto_Banco_Horas];\n",
                "\n",
                "CREATE INDEX [IX_Adm_Ponto_Banco_Horas_Usuario_CodigoPeriodoAcumulativo] ON [Processo].[dbo].[Adm_Ponto_Banco_Horas] ([Usuario], [CodigoPeriodoAcumulativo]) INCLUDE ([SaldoLiquido], [IdBancoHoras])\n",
                "END"
            ],
            "metadata": {
                "azdata_cell_guid": "84cb396d-027d-425b-8ffd-bb18544efa9b"
            },
            "outputs": [],
            "execution_count": null
        },
        {
            "cell_type": "code",
            "source": [
                "-- 11\n",
                "\n",
                "IF EXISTS( SELECT * FROM sys.indexes WHERE name='por_DataPublicacaoDOE' AND object_id = OBJECT_ID('dbo.Ata_Composicao_Pautas') )\n",
                "BEGIN\n",
                "\tDROP INDEX [por_DataPublicacaoDOE] ON [dbo].[Ata_Composicao_Pautas];\n",
                "\n",
                "    CREATE INDEX [IX_Ata_Composicao_Pautas_DataPublicacaoDOE_IdMotivoRetirada] ON [Processo].[dbo].[Ata_Composicao_Pautas] ([DataPublicacaoDOE], [IdMotivoRetirada]) INCLUDE ([codigo_camara], [numero_sessao], [ano_sessao], [numero_processo], [ano_processo], [Pro_saiu_num_sessao], [idInformacao], [idVotoPauta])\n",
                "\n",
                "\n",
                "    DROP INDEX [por_numero_processo_ano_processo] ON [dbo].[Ata_Composicao_Pautas]\n",
                "    CREATE NONCLUSTERED INDEX [IX_Ata_Composicao_Pautas_ano_processo_numero_processo] ON [dbo].[Ata_Composicao_Pautas]\n",
                "    (\n",
                "        [ano_processo] ASC,\n",
                "        [numero_processo] ASC\n",
                "    )WITH (PAD_INDEX = OFF, STATISTICS_NORECOMPUTE = OFF, SORT_IN_TEMPDB = OFF, DROP_EXISTING = OFF, ONLINE = OFF, ALLOW_ROW_LOCKS = ON, ALLOW_PAGE_LOCKS = OFF, FILLFACTOR = 80)\n",
                "\n",
                "\n",
                "\tDROP INDEX [Por_CamaraNumeroSessaoAnoSessao] ON [dbo].[Ata_Composicao_Pautas];\n",
                "\n",
                "    CREATE NONCLUSTERED INDEX [IX_Ata_Composicao_Pautas_Camara_AnoSessao_NumeroSessao] ON [dbo].[Ata_Composicao_Pautas]\n",
                "    (\n",
                "        [codigo_camara] ASC,\n",
                "        [ano_sessao] ASC,\n",
                "        [numero_sessao] ASC\n",
                "    )WITH (PAD_INDEX = OFF, STATISTICS_NORECOMPUTE = OFF, SORT_IN_TEMPDB = OFF, DROP_EXISTING = OFF, ONLINE = OFF, ALLOW_ROW_LOCKS = ON, ALLOW_PAGE_LOCKS = OFF, FILLFACTOR = 80)\n",
                "\n",
                "\n",
                "\tDROP INDEX por_DataGeracaoArquivoPublicacao ON [dbo].[Ata_Composicao_Pautas];\n",
                "END"
            ],
            "metadata": {
                "azdata_cell_guid": "3b8f47c0-875d-4605-bfca-abed93efb754"
            },
            "outputs": [],
            "execution_count": null
        },
        {
            "cell_type": "code",
            "source": [
                "-- 12\n",
                "\n",
                "IF EXISTS( SELECT * FROM sys.indexes WHERE name='PorTipo' AND object_id = OBJECT_ID('dbo.Pro_LiberacaoCriticaProcesso') )\n",
                "BEGIN\n",
                "\tDROP INDEX PorTipo ON [dbo].[Pro_LiberacaoCriticaProcesso];\n",
                "\n",
                "    CREATE INDEX [IX_Pro_LiberacaoCriticaProcesso_Ano] ON [Processo].[dbo].[Pro_LiberacaoCriticaProcesso] ([Ano]) INCLUDE ([idOrgao], [idTipoLiberacaoCritica])\n",
                "END"
            ],
            "metadata": {
                "azdata_cell_guid": "4bbc76a2-e793-48d2-82f7-b84cd8841fcb"
            },
            "outputs": [],
            "execution_count": null
        },
        {
            "cell_type": "code",
            "source": [
                "-- 13\n",
                "\n",
                "IF NOT EXISTS( SELECT * FROM sys.indexes WHERE name='IX_Cit_ArquivoItensGuiaPostagem_IdItemGuiaPostagem' AND object_id = OBJECT_ID('dbo.Cit_ArquivoItensGuiaPostagem') )\n",
                "BEGIN\n",
                "    CREATE INDEX [IX_Cit_ArquivoItensGuiaPostagem_IdItemGuiaPostagem] ON [Processo].[dbo].[Cit_ArquivoItensGuiaPostagem] ([IdItemGuiaPostagem]) INCLUDE ([IdArquivoRetorno])\n",
                "END\n",
                "\n",
                "IF NOT EXISTS( SELECT * FROM sys.indexes WHERE name='IX_Cit_ArquivoItensGuiaPostagem_IdItemGuiaPostagem' AND object_id = OBJECT_ID('dbo.Cit_ItensGuiaPostagem') )\n",
                "BEGIN\n",
                "    CREATE INDEX [IX_Cit_ItensGuiaPostagem_Recebido] ON [Processo].[dbo].[Cit_ItensGuiaPostagem] ([Recebido]) INCLUDE ([IdItemGuiaPostagem])\n",
                "END"
            ],
            "metadata": {
                "azdata_cell_guid": "8ae748bc-2fca-4194-b82b-6fe9a9f0c781"
            },
            "outputs": [],
            "execution_count": null
        },
        {
            "cell_type": "code",
            "source": [
                "-- 14\n",
                "\n",
                "IF EXISTS( SELECT * FROM sys.indexes WHERE name='por_setor' AND object_id = OBJECT_ID('dbo.Lrf_Distribuicao') )\n",
                "BEGIN\n",
                "\tDROP INDEX por_setor ON [dbo].[Lrf_Distribuicao];\n",
                "\n",
                "\tDROP INDEX por_usuario ON [dbo].[Lrf_Distribuicao];\n",
                "\n",
                "\tDROP INDEX Lrf_Distribuicao_UsuarioDataFimAnalise ON [dbo].[Lrf_Distribuicao];\n",
                "\n",
                "\tDROP INDEX PorNProcessoAnoProcessoDataAnaliseSetor ON [dbo].[Lrf_Distribuicao];\n",
                "\n",
                "    CREATE INDEX [IX_Lrf_Distribuicao_Ano_processo_Numero_processo_data_fim_analise] ON [Processo].[dbo].[Lrf_Distribuicao] ([Ano_processo], [Numero_processo], [data_fim_analise])\n",
                "END"
            ],
            "metadata": {
                "azdata_cell_guid": "9e4ffae2-a097-4915-9bb1-afb81dfa0219",
                "tags": []
            },
            "outputs": [],
            "execution_count": null
        }
    ]
}