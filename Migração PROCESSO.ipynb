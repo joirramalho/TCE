{
    "metadata": {
        "kernelspec": {
            "name": "SQL",
            "display_name": "SQL",
            "language": "sql"
        },
        "language_info": {
            "name": "sql",
            "version": ""
        }
    },
    "nbformat_minor": 2,
    "nbformat": 4,
    "cells": [
        {
            "cell_type": "markdown",
            "source": [
                "https://www.mssqltips.com/sqlservertip/1891/steps-to-rename-a-sql-server-database/"
            ],
            "metadata": {
                "azdata_cell_guid": "732f4b85-1687-4b35-bbb1-7f834f85316d"
            }
        },
        {
            "cell_type": "code",
            "source": [
                "-- PROCESSO\n",
                "USE [master]\n",
                "GO\n",
                "ALTER DATABASE [processo] SET  READ_WRITE WITH  ROLLBACK IMMEDIATE\n",
                "GO\n",
                "\n",
                "\n",
                "---\n",
                "USE master\n",
                "GO\n",
                "\n",
                "ALTER DATABASE processo SET SINGLE_USER WITH ROLLBACK IMMEDIATE\n",
                "GO\n",
                "\n",
                "EXEC master..sp_renamedb 'processo','Processo_MIGRACAO'\n",
                "GO\n",
                "\n",
                "ALTER DATABASE processo_MIGRACAO SET MULTI_USER \n",
                "GO\n",
                "---\n",
                "\n",
                "ALTER DATABASE [processo_MIGRACAO] MODIFY FILE (NAME=N'processo_Data', NEWNAME=N'processo_Data_MIGRACAO')\n",
                "GO\n",
                "\n",
                "ALTER DATABASE [processo_MIGRACAO] MODIFY FILE (NAME=N'processo_FG_Audit', NEWNAME=N'processo_FG_Audit_MIGRACAO')\n",
                "GO\n",
                "ALTER DATABASE [processo_MIGRACAO] MODIFY FILE (NAME=N'processo_fg_fiscal', NEWNAME=N'processo_fg_fiscal_MIGRACAO')\n",
                "GO\n",
                "ALTER DATABASE [processo_MIGRACAO] MODIFY FILE (NAME=N'processo_fg_pessoal', NEWNAME=N'processo_fg_pessoal_MIGRACAO')\n",
                "GO\n",
                "ALTER DATABASE [processo_MIGRACAO] MODIFY FILE (NAME=N'processo_fg_reservado', NEWNAME=N'processo_fg_reservado_MIGRACAO')\n",
                "GO\n",
                "ALTER DATABASE [processo_MIGRACAO] MODIFY FILE (NAME=N'processo_fg_fiscal_idx', NEWNAME=N'processo_fg_fiscal_idx_MIGRACAO')\n",
                "GO\n",
                "ALTER DATABASE [processo_MIGRACAO] MODIFY FILE (NAME=N'processo_fg_pessoal_idx', NEWNAME=N'processo_fg_pessoal_idx_MIGRACAO')\n",
                "GO\n",
                "ALTER DATABASE [processo_MIGRACAO] MODIFY FILE (NAME=N'processo_fg_reservado_idx', NEWNAME=N'processo_fg_reservado_idx_MIGRACAO')\n",
                "GO\n",
                "ALTER DATABASE [processo_MIGRACAO] MODIFY FILE (NAME=N'processo_fg_idx', NEWNAME=N'processo_fg_idx_MIGRACAO')\n",
                "GO\n",
                "\n",
                "\n",
                "\n",
                "ALTER DATABASE [processo_MIGRACAO] MODIFY FILE (NAME=N'Processo_log', NEWNAME=N'Processo_log_MIGRACAO')\n",
                "GO\n",
                "\n",
                "---\n",
                "\n",
                "SELECT name AS [Logical Name], physical_name AS [DB File Path], type_desc AS [File Type], state_desc AS [State] \n",
                "FROM sys.master_files\n",
                "WHERE database_id = DB_ID(N'processo_MIGRACAO')\n",
                "\n",
                "---\n",
                "USE [master]\n",
                "GO\n",
                "EXEC master.dbo.sp_detach_db @dbname = N'processo_MIGRACAO'\n",
                "GO\n",
                "---\n",
                "\n",
                "USE [master]\n",
                "GO\n",
                "CREATE DATABASE [processo_MIGRACAO] ON \n",
                "( FILENAME = N'E:\\feature\\processo_MIGRACAO.mdf' ),\n",
                "( FILENAME = N'E:\\feature\\processo_Log_MIGRACAO.ldf' ),\n",
                "( FILENAME = N'E:\\feature\\processo_FG_Audit_MIGRACAO.ndf' ),\n",
                "( FILENAME = N'E:\\feature\\processo_FG_Fiscal_MIGRACAO.ndf' ),\n",
                "( FILENAME = N'E:\\feature\\processo_FG_Pessoal_MIGRACAO.ndf' ),\n",
                "( FILENAME = N'E:\\feature\\processo_FG_reservado_MIGRACAO.ndf' ),\n",
                "( FILENAME = N'E:\\feature\\processo_FG_Fiscal_idx_MIGRACAO.ndf' ),\n",
                "( FILENAME = N'E:\\feature\\processo_FG_Pessoal_idx_MIGRACAO.ndf' ),\n",
                "( FILENAME = N'E:\\feature\\processo_FG_reservado_idx_MIGRACAO.ndf' ),\n",
                "( FILENAME = N'E:\\feature\\processo_FG_idx_MIGRACAO.ndf' )\n",
                " FOR ATTACH\n",
                "GO\n",
                "\n",
                "\n",
                "---\n",
                "\n",
                "USE [master]\n",
                "GO\n",
                "ALTER DATABASE [processo_MIGRACAO] SET  READ_ONLY WITH NO_WAIT\n",
                "GO\n",
                "\n",
                ""
            ],
            "metadata": {
                "azdata_cell_guid": "133d051a-816c-4126-a91a-0aa689952a3b",
                "tags": []
            },
            "outputs": [],
            "execution_count": null
        },
        {
            "cell_type": "code",
            "source": [
                "-- Processo_Audit\n",
                "USE master\n",
                "GO\n",
                "---\n",
                "ALTER DATABASE Processo_Audit SET SINGLE_USER WITH ROLLBACK IMMEDIATE\n",
                "GO\n",
                "\n",
                "EXEC master..sp_renamedb 'Processo_Audit','Processo_Audit_MIGRACAO'\n",
                "GO\n",
                "\n",
                "ALTER DATABASE Processo_Audit_MIGRACAO SET MULTI_USER \n",
                "GO\n",
                "---\n",
                "\n",
                "ALTER DATABASE [Processo_Audit_MIGRACAO] MODIFY FILE (NAME=N'Processo_Audit', NEWNAME=N'Processo_Audit_MIGRACAO')\n",
                "GO\n",
                "\n",
                "ALTER DATABASE [Processo_Audit_MIGRACAO] MODIFY FILE (NAME=N'Processo_Audit_log', NEWNAME=N'Processo_Audit_log_MIGRACAO')\n",
                "GO\n",
                "\n",
                "---\n",
                "\n",
                "SELECT name AS [Logical Name], physical_name AS [DB File Path], type_desc AS [File Type], state_desc AS [State] \n",
                "FROM sys.master_files\n",
                "WHERE database_id = DB_ID(N'Processo_Audit_MIGRACAO')\n",
                "\n",
                "---\n",
                "USE [master]\n",
                "GO\n",
                "EXEC master.dbo.sp_detach_db @dbname = N'Processo_Audit_MIGRACAO'\n",
                "GO\n",
                "---\n",
                "\n",
                "USE [master]\n",
                "GO\n",
                "CREATE DATABASE [Processo_Audit_MIGRACAO] ON \n",
                "( FILENAME = N'E:\\Feature\\Processo_Audit_MIGRACAO.mdf' ),\n",
                "( FILENAME = N'E:\\Feature\\Processo_Audit_log_MIGRACAO.ldf' )\n",
                " FOR ATTACH\n",
                "GO\n",
                "---\n",
                "\n",
                "USE [master]\n",
                "GO\n",
                "ALTER DATABASE [Processo_Audit_MIGRACAO] SET  READ_ONLY WITH NO_WAIT\n",
                "GO\n",
                "\n",
                ""
            ],
            "metadata": {
                "azdata_cell_guid": "fbf3eb00-de77-4039-9b12-2758e1f7c1be",
                "tags": [
                    "hide_input"
                ]
            },
            "outputs": [],
            "execution_count": null
        },
        {
            "cell_type": "code",
            "source": [
                "USE [master]\n",
                "RESTORE DATABASE [Processo] \n",
                "FROM  DISK = N'\\\\FSBKP\\sql\\PRD-SQL01\\Processo\\Processo.BAK' WITH  FILE = 1,  \n",
                "MOVE N'processo_Data'\t\t\t\tTO N'E:\\Feature\\Processo.mdf',  \n",
                "MOVE N'processo_FG_Audit'\t\t\tTO N'E:\\Feature\\processo_FG_Audit.ndf',  \n",
                "MOVE N'processo_fg_pessoal'\t\t\tTO N'E:\\Feature\\processo_FG_Pessoal.ndf',  \n",
                "MOVE N'processo_fg_reservado'\t\tTO N'E:\\Feature\\processo_fg_reservado.ndf',  \n",
                "MOVE N'processo_fg_fiscal'\t\t\tTO N'E:\\Feature\\processo_FG_Fiscal.ndf', \n",
                "MOVE N'processo_fg_pessoal_idx'\t\tTO N'E:\\Feature\\processo_FG_Pessoal_idx.ndf',  \n",
                "MOVE N'processo_fg_reservado_idx'\tTO N'E:\\Feature\\processo_fg_reservado_idx.ndf',  \n",
                "MOVE N'processo_fg_fiscal_idx'\t\tTO N'E:\\Feature\\processo_FG_Fiscal_idx.ndf',  \n",
                "MOVE N'processo_fg_idx'\t\t\t\tTO N'E:\\Feature\\processo_fg_idx.ndf',  \n",
                "MOVE N'processo_Log'\t\t\t\tTO N'E:\\Feature\\Processo.ldf',  \n",
                "NOUNLOAD,  STATS = 5\n",
                "\n",
                "GO"
            ],
            "metadata": {
                "azdata_cell_guid": "46c8a68d-82c4-4bf2-9eb9-453450a99a19",
                "tags": []
            },
            "outputs": [],
            "execution_count": null
        },
        {
            "cell_type": "code",
            "source": [
                "-- feature\n",
                "\n",
                "SELECT  YEAR(DATAINCLUSAO), COUNT(*)\n",
                "FROM SiaiDp_QfServidor\n",
                "GROUP BY YEAR(DATAINCLUSAO)\n",
                "ORDER BY YEAR(DATAINCLUSAO)\n",
                "\n",
                "SELECT  YEAR(DATAINCLUSAO), COUNT(*)\n",
                "FROM SiaiDp_FpContraChequeItem\n",
                "GROUP BY YEAR(DATAINCLUSAO)\n",
                "ORDER BY YEAR(DATAINCLUSAO)\n",
                "\n",
                "SELECT  YEAR(DATAINCLUSAO), COUNT(*)\n",
                "FROM SiaiDp_FpContraCheque\n",
                "GROUP BY YEAR(DATAINCLUSAO)\n",
                "ORDER BY YEAR(DATAINCLUSAO)\n",
                "\n",
                "\n",
                "\n",
                "SELECT  YEAR(DATAINCLUSAO), COUNT(*)\n",
                "FROM GenObito\n",
                "GROUP BY YEAR(DATAINCLUSAO)\n",
                "ORDER BY YEAR(DATAINCLUSAO)\n",
                "\n",
                "SELECT * -- YEAR(DATAINCLUSAO), COUNT(*)\n",
                "FROM Lrf_Anexo23Fotos\n",
                "GROUP BY YEAR(DATAINCLUSAO)\n",
                "ORDER BY YEAR(DATAINCLUSAO)\n",
                "\n",
                "TRUNCATE TABLE Lrf_Anexo23Fotos\n",
                "\n",
                "\n",
                "\n",
                "\n",
                "SELECT  [Bim_Referencia], COUNT(*)\n",
                "FROM Lrf_ResponsavelPreenchimento\n",
                "GROUP BY [Bim_Referencia]\n",
                "ORDER BY [Bim_Referencia]\n",
                "\n",
                "-- TRUNCATE TABLE Lrf_ResponsavelPreenchimento\n",
                "\n",
                "\n",
                "\n",
                "\n",
                "\n",
                "--\n",
                "\n",
                "use Processo\n",
                "\n",
                "DECLARE @BatchSize INT = 10000\n",
                "\n",
                "WHILE 1 = 1\n",
                "BEGIN\n",
                "\tDELETE TOP (@BatchSize)\n",
                "\tFROM SiaiDp_FpContraChequeItem\n",
                "\twhere YEAR(DATAINCLUSAO) < 2020\n",
                " \n",
                "\tIF @@ROWCOUNT < @BatchSize BREAK\n",
                "END\n",
                "\n",
                "---\n",
                "\n",
                "use Processo\n",
                "\n",
                "DECLARE @BatchSize INT = 10000\n",
                "\n",
                "WHILE 1 = 1\n",
                "BEGIN\n",
                "\tDELETE TOP (@BatchSize)\n",
                "\tFROM SiaiDp_QfServidor\n",
                "\twhere YEAR(DATAINCLUSAO) < 2020\n",
                " \n",
                "\tIF @@ROWCOUNT < @BatchSize BREAK\n",
                "END\n",
                "\n",
                "\n",
                "\n",
                "---\n",
                "use Processo\n",
                "\n",
                "DECLARE @BatchSize INT = 1000\n",
                "\n",
                "WHILE 1 = 1\n",
                "BEGIN\n",
                "\tDELETE TOP (@BatchSize)\n",
                "\tFROM GenObito\n",
                "\twhere YEAR(DATAINCLUSAO) < 2020\n",
                " \n",
                "\tIF @@ROWCOUNT < @BatchSize BREAK\n",
                "END\n",
                "\n",
                "---\n",
                "\n",
                "use Processo\n",
                "\n",
                "DECLARE @BatchSize INT = 10000\n",
                "\n",
                "WHILE 1 = 1\n",
                "BEGIN\n",
                "\tDELETE TOP (@BatchSize)\n",
                "\tFROM SiaiDp_FpContraCheque\n",
                "\twhere YEAR(DATAINCLUSAO) < 2020\n",
                " \n",
                "\tIF @@ROWCOUNT < @BatchSize BREAK\n",
                "END\n",
                "\n",
                "\n",
                "\n",
                ""
            ],
            "metadata": {
                "azdata_cell_guid": "9ff81872-d76a-4ffa-b664-a3d2b0e18358",
                "tags": []
            },
            "outputs": [],
            "execution_count": null
        },
        {
            "cell_type": "code",
            "source": [
                "USE [master]\n",
                "RESTORE DATABASE [Processo] \n",
                "FROM  DISK = N'\\\\fsbkp\\sql\\PRD-SQL01\\Processo_RESTORED_BdFeature.BAK' WITH  FILE = 1,  \n",
                "MOVE N'processo_Data'\t\t\t\tTO N'E:\\BdBeta\\Processo.mdf',  \n",
                "MOVE N'processo_FG_Audit'\t\t\tTO N'E:\\BdBeta\\processo_FG_Audit.ndf',  \n",
                "MOVE N'processo_fg_pessoal'\t\t\tTO N'E:\\BdBeta\\processo_FG_Pessoal.ndf',  \n",
                "MOVE N'processo_fg_reservado'\t\tTO N'E:\\BdBeta\\processo_fg_reservado.ndf',  \n",
                "MOVE N'processo_fg_fiscal'\t\t\tTO N'E:\\BdBeta\\processo_FG_Fiscal.ndf', \n",
                "MOVE N'processo_fg_pessoal_idx'\t\tTO N'E:\\BdBeta\\processo_FG_Pessoal_idx.ndf',  \n",
                "MOVE N'processo_fg_reservado_idx'\tTO N'E:\\BdBeta\\processo_fg_reservado_idx.ndf',  \n",
                "MOVE N'processo_fg_fiscal_idx'\t\tTO N'E:\\BdBeta\\processo_FG_Fiscal_idx.ndf',  \n",
                "MOVE N'processo_fg_idx'\t\t\t\tTO N'E:\\BdBeta\\processo_fg_idx.ndf',  \n",
                "MOVE N'processo_Log'\t\t\t\tTO N'E:\\BdBeta\\Processo.ldf',  \n",
                "NOUNLOAD,  STATS = 5\n",
                "\n",
                "GO\n",
                "\n",
                "-- BdBeta\n",
                ""
            ],
            "metadata": {
                "azdata_cell_guid": "40943c99-2c00-4c28-ae2f-51c7672c0acb"
            },
            "outputs": [],
            "execution_count": null
        },
        {
            "cell_type": "code",
            "source": [
                "BACKUP DATABASE [Processo] \n",
                "TO  DISK = N'\\\\fsbkp\\sql\\PRD-SQL01\\Processo_RESTORED_BdFeature_Apos_LIMPEZA.BAK' WITH NOFORMAT, \n",
                "NOINIT,  NAME = N'Processo-Full Database Backup', \n",
                "SKIP, NOREWIND, NOUNLOAD,  STATS = 10\n",
                "GO\n",
                "\n",
                ""
            ],
            "metadata": {
                "azdata_cell_guid": "b80eda0f-4fb4-487d-9ab5-4ad2863571ff"
            },
            "outputs": [],
            "execution_count": null
        },
        {
            "cell_type": "code",
            "source": [
                "USE [master]\n",
                "RESTORE DATABASE [Processo] \n",
                "FROM  DISK = N'\\\\fsbkp\\sql\\PRD-SQL01\\Processo_RESTORED_BdFeature_Apos_LIMPEZA.BAK' WITH  FILE = 1,  \n",
                "MOVE N'processo_Data'\t\t\t\tTO N'E:\\Int\\Processo.mdf',  \n",
                "MOVE N'processo_FG_Audit'\t\t\tTO N'E:\\Int\\processo_FG_Audit.ndf',  \n",
                "MOVE N'processo_fg_pessoal'\t\t\tTO N'E:\\Int\\processo_FG_Pessoal.ndf',  \n",
                "MOVE N'processo_fg_reservado'\t\tTO N'E:\\Int\\processo_fg_reservado.ndf',  \n",
                "MOVE N'processo_fg_fiscal'\t\t\tTO N'E:\\Int\\processo_FG_Fiscal.ndf', \n",
                "MOVE N'processo_fg_pessoal_idx'\t\tTO N'E:\\Int\\processo_FG_Pessoal_idx.ndf',  \n",
                "MOVE N'processo_fg_reservado_idx'\tTO N'E:\\Int\\processo_fg_reservado_idx.ndf',  \n",
                "MOVE N'processo_fg_fiscal_idx'\t\tTO N'E:\\Int\\processo_FG_Fiscal_idx.ndf',  \n",
                "MOVE N'processo_fg_idx'\t\t\t\tTO N'E:\\Int\\processo_fg_idx.ndf',  \n",
                "MOVE N'processo_Log'\t\t\t\tTO N'E:\\Int\\Processo.ldf',  \n",
                "NOUNLOAD,  STATS = 5\n",
                "\n",
                "GO\n",
                "\n",
                "-- BdInt\n",
                "\n",
                ""
            ],
            "metadata": {
                "azdata_cell_guid": "ba9ae353-082d-4fd9-bb5b-188b190d6b94"
            },
            "outputs": [],
            "execution_count": null
        },
        {
            "cell_type": "code",
            "source": [
                "\n",
                "-- DROP DATABASE ProcessoTrigger\n",
                "\n",
                "USE [master]\n",
                "RESTORE DATABASE [ProcessoTrigger] \n",
                "FROM  DISK = N'\\\\fsbkp\\sql\\PRD-SQL01\\Processo_RESTORED_BdFeature_Apos_LIMPEZA.BAK' WITH  FILE = 1,  \n",
                "MOVE N'processo_Data'\t\t\t\tTO N'E:\\Trigger\\Processo.mdf',  \n",
                "MOVE N'processo_FG_Audit'\t\t\tTO N'E:\\Trigger\\processo_FG_Audit.ndf',  \n",
                "MOVE N'processo_fg_pessoal'\t\t\tTO N'E:\\Trigger\\processo_FG_Pessoal.ndf',  \n",
                "MOVE N'processo_fg_reservado'\t\tTO N'E:\\Trigger\\processo_fg_reservado.ndf',  \n",
                "MOVE N'processo_fg_fiscal'\t\t\tTO N'E:\\Trigger\\processo_FG_Fiscal.ndf', \n",
                "MOVE N'processo_fg_pessoal_idx'\t\tTO N'E:\\Trigger\\processo_FG_Pessoal_idx.ndf',  \n",
                "MOVE N'processo_fg_reservado_idx'\tTO N'E:\\Trigger\\processo_fg_reservado_idx.ndf',  \n",
                "MOVE N'processo_fg_fiscal_idx'\t\tTO N'E:\\Trigger\\processo_FG_Fiscal_idx.ndf',  \n",
                "MOVE N'processo_fg_idx'\t\t\t\tTO N'E:\\Trigger\\processo_fg_idx.ndf',  \n",
                "MOVE N'processo_Log'\t\t\t\tTO N'E:\\Trigger\\Processo.ldf',  \n",
                "NOUNLOAD,  STATS = 5\n",
                "\n",
                "GO\n",
                "\n",
                "-- Trigger 02Jul20\n",
                ""
            ],
            "metadata": {
                "azdata_cell_guid": "272d94f8-48b6-4123-a246-27a8b96475f8"
            },
            "outputs": [
                {
                    "output_type": "display_data",
                    "data": {
                        "text/html": "5 percent processed."
                    },
                    "metadata": {}
                },
                {
                    "output_type": "display_data",
                    "data": {
                        "text/html": "10 percent processed."
                    },
                    "metadata": {}
                },
                {
                    "output_type": "display_data",
                    "data": {
                        "text/html": "15 percent processed."
                    },
                    "metadata": {}
                },
                {
                    "output_type": "display_data",
                    "data": {
                        "text/html": "20 percent processed."
                    },
                    "metadata": {}
                },
                {
                    "output_type": "display_data",
                    "data": {
                        "text/html": "25 percent processed."
                    },
                    "metadata": {}
                },
                {
                    "output_type": "display_data",
                    "data": {
                        "text/html": "30 percent processed."
                    },
                    "metadata": {}
                },
                {
                    "output_type": "display_data",
                    "data": {
                        "text/html": "35 percent processed."
                    },
                    "metadata": {}
                },
                {
                    "output_type": "display_data",
                    "data": {
                        "text/html": "40 percent processed."
                    },
                    "metadata": {}
                },
                {
                    "output_type": "display_data",
                    "data": {
                        "text/html": "45 percent processed."
                    },
                    "metadata": {}
                },
                {
                    "output_type": "display_data",
                    "data": {
                        "text/html": "50 percent processed."
                    },
                    "metadata": {}
                },
                {
                    "output_type": "display_data",
                    "data": {
                        "text/html": "55 percent processed."
                    },
                    "metadata": {}
                },
                {
                    "output_type": "display_data",
                    "data": {
                        "text/html": "60 percent processed."
                    },
                    "metadata": {}
                },
                {
                    "output_type": "display_data",
                    "data": {
                        "text/html": "65 percent processed."
                    },
                    "metadata": {}
                },
                {
                    "output_type": "display_data",
                    "data": {
                        "text/html": "70 percent processed."
                    },
                    "metadata": {}
                },
                {
                    "output_type": "display_data",
                    "data": {
                        "text/html": "75 percent processed."
                    },
                    "metadata": {}
                },
                {
                    "output_type": "display_data",
                    "data": {
                        "text/html": "80 percent processed."
                    },
                    "metadata": {}
                },
                {
                    "output_type": "display_data",
                    "data": {
                        "text/html": "85 percent processed."
                    },
                    "metadata": {}
                },
                {
                    "output_type": "display_data",
                    "data": {
                        "text/html": "90 percent processed."
                    },
                    "metadata": {}
                },
                {
                    "output_type": "display_data",
                    "data": {
                        "text/html": "95 percent processed."
                    },
                    "metadata": {}
                },
                {
                    "output_type": "display_data",
                    "data": {
                        "text/html": "100 percent processed."
                    },
                    "metadata": {}
                },
                {
                    "output_type": "display_data",
                    "data": {
                        "text/html": "Processed 1368728 pages for database 'ProcessoTrigger', file 'processo_Data' on file 1."
                    },
                    "metadata": {}
                },
                {
                    "output_type": "display_data",
                    "data": {
                        "text/html": "Processed 328 pages for database 'ProcessoTrigger', file 'processo_FG_Audit' on file 1."
                    },
                    "metadata": {}
                },
                {
                    "output_type": "display_data",
                    "data": {
                        "text/html": "Processed 409568 pages for database 'ProcessoTrigger', file 'processo_fg_pessoal' on file 1."
                    },
                    "metadata": {}
                },
                {
                    "output_type": "display_data",
                    "data": {
                        "text/html": "Processed 15744 pages for database 'ProcessoTrigger', file 'processo_fg_reservado' on file 1."
                    },
                    "metadata": {}
                },
                {
                    "output_type": "display_data",
                    "data": {
                        "text/html": "Processed 1017528 pages for database 'ProcessoTrigger', file 'processo_fg_fiscal' on file 1."
                    },
                    "metadata": {}
                },
                {
                    "output_type": "display_data",
                    "data": {
                        "text/html": "Processed 23912 pages for database 'ProcessoTrigger', file 'processo_fg_pessoal_idx' on file 1."
                    },
                    "metadata": {}
                },
                {
                    "output_type": "display_data",
                    "data": {
                        "text/html": "Processed 120 pages for database 'ProcessoTrigger', file 'processo_fg_reservado_idx' on file 1."
                    },
                    "metadata": {}
                },
                {
                    "output_type": "display_data",
                    "data": {
                        "text/html": "Processed 419536 pages for database 'ProcessoTrigger', file 'processo_fg_fiscal_idx' on file 1."
                    },
                    "metadata": {}
                },
                {
                    "output_type": "display_data",
                    "data": {
                        "text/html": "Processed 99824 pages for database 'ProcessoTrigger', file 'processo_fg_idx' on file 1."
                    },
                    "metadata": {}
                },
                {
                    "output_type": "display_data",
                    "data": {
                        "text/html": "Processed 8 pages for database 'ProcessoTrigger', file 'processo_Log' on file 1."
                    },
                    "metadata": {}
                },
                {
                    "output_type": "display_data",
                    "data": {
                        "text/html": "RESTORE DATABASE successfully processed 3355296 pages in 344.484 seconds (76.094 MB/sec)."
                    },
                    "metadata": {}
                },
                {
                    "output_type": "display_data",
                    "data": {
                        "text/html": "Commands completed successfully."
                    },
                    "metadata": {}
                },
                {
                    "output_type": "display_data",
                    "data": {
                        "text/html": "Total execution time: 00:05:49.587"
                    },
                    "metadata": {}
                }
            ],
            "execution_count": 4
        },
        {
            "cell_type": "code",
            "source": [
                "-- CHECK APÓS RESTORE\n",
                "\n",
                "SELECT TOP 5 *\n",
                "  FROM [Processo].[dbo].[Processos]\n",
                "  ORDER BY DataInclusao DESC\n",
                "\n",
                "  /****** Script for SelectTopNRows command from SSMS  ******/\n",
                "SELECT TOP 5 [IdOperador]\n",
                "      ,[IdSessao]\n",
                "      ,[Estacao]\n",
                "      ,[DataInicioSessao]\n",
                "      ,[DataFimSessao]\n",
                "      ,[ViaIP]\n",
                "      ,[Expiracao]\n",
                "  FROM [Processo].[dbo].[SysSessao]\n",
                "  order by IdSessao DESC\n",
                ""
            ],
            "metadata": {
                "azdata_cell_guid": "92782273-1d0d-4c9a-9689-5bae42410f2a"
            },
            "outputs": [],
            "execution_count": null
        },
        {
            "cell_type": "code",
            "source": [
                "USE [master]\n",
                "RESTORE DATABASE [Processo] \n",
                "FROM  DISK = N'\\\\fsbkp\\sql\\PRD-SQL01\\Processo_RESTORED_BdFeature_Apos_LIMPEZA.BAK' WITH  FILE = 1,  \n",
                "MOVE N'processo_Data'\t\t\t\tTO N'E:\\QA\\Processo.mdf',  \n",
                "MOVE N'processo_FG_Audit'\t\t\tTO N'E:\\QA\\processo_FG_Audit.ndf',  \n",
                "MOVE N'processo_fg_pessoal'\t\t\tTO N'E:\\QA\\processo_FG_Pessoal.ndf',  \n",
                "MOVE N'processo_fg_reservado'\t\tTO N'E:\\QA\\processo_fg_reservado.ndf',  \n",
                "MOVE N'processo_fg_fiscal'\t\t\tTO N'E:\\QA\\processo_FG_Fiscal.ndf', \n",
                "MOVE N'processo_fg_pessoal_idx'\t\tTO N'E:\\QA\\processo_FG_Pessoal_idx.ndf',  \n",
                "MOVE N'processo_fg_reservado_idx'\tTO N'E:\\QA\\processo_fg_reservado_idx.ndf',  \n",
                "MOVE N'processo_fg_fiscal_idx'\t\tTO N'E:\\QA\\processo_FG_Fiscal_idx.ndf',  \n",
                "MOVE N'processo_fg_idx'\t\t\t\tTO N'E:\\QA\\processo_fg_idx.ndf',  \n",
                "MOVE N'processo_Log'\t\t\t\tTO N'E:\\QA\\Processo.ldf',  \n",
                "NOUNLOAD,  STATS = 5\n",
                "\n",
                "GO\n",
                "\n",
                "-- BdQA\n",
                "\n",
                ""
            ],
            "metadata": {
                "azdata_cell_guid": "64203cbd-5daa-41de-8733-2197d0237e6a"
            },
            "outputs": [],
            "execution_count": null
        },
        {
            "cell_type": "code",
            "source": [
                "USE [master]\n",
                "RESTORE DATABASE [Processo] \n",
                "FROM  DISK = N'\\\\fsbkp\\sql\\PRD-SQL01\\Processo_RESTORED_BdFeature_Apos_LIMPEZA.BAK' WITH  FILE = 1,  \n",
                "MOVE N'processo_Data'\t\t\t\tTO N'E:\\BdRelease\\Processo.mdf',  \n",
                "MOVE N'processo_FG_Audit'\t\t\tTO N'E:\\BdRelease\\processo_FG_Audit.ndf',  \n",
                "MOVE N'processo_fg_pessoal'\t\t\tTO N'E:\\BdRelease\\processo_FG_Pessoal.ndf',  \n",
                "MOVE N'processo_fg_reservado'\t\tTO N'E:\\BdRelease\\processo_fg_reservado.ndf',  \n",
                "MOVE N'processo_fg_fiscal'\t\t\tTO N'E:\\BdRelease\\processo_FG_Fiscal.ndf', \n",
                "MOVE N'processo_fg_pessoal_idx'\t\tTO N'E:\\BdRelease\\processo_FG_Pessoal_idx.ndf',  \n",
                "MOVE N'processo_fg_reservado_idx'\tTO N'E:\\BdRelease\\processo_fg_reservado_idx.ndf',  \n",
                "MOVE N'processo_fg_fiscal_idx'\t\tTO N'E:\\BdRelease\\processo_FG_Fiscal_idx.ndf',  \n",
                "MOVE N'processo_fg_idx'\t\t\t\tTO N'E:\\BdRelease\\processo_fg_idx.ndf',  \n",
                "MOVE N'processo_Log'\t\t\t\tTO N'E:\\BdRelease\\Processo.ldf',  \n",
                "NOUNLOAD,  STATS = 5\n",
                "\n",
                "GO\n",
                "\n",
                "-- BdRelease a partir de BANCO LIMPEZA\n",
                ""
            ],
            "metadata": {
                "azdata_cell_guid": "b4588469-5fed-480b-bf0a-42690cf318c5"
            },
            "outputs": [],
            "execution_count": null
        },
        {
            "cell_type": "code",
            "source": [
                "USE [master]\n",
                "RESTORE DATABASE [Processo] \n",
                "FROM  DISK = N'\\\\fsbkp\\sql\\PRD-SQL01\\Processo_RESTORED_BdFeature_Apos_LIMPEZA.BAK' WITH  FILE = 1,  \n",
                "MOVE N'processo_Data'\t\t\t\tTO N'E:\\feature01\\Processo.mdf',  \n",
                "MOVE N'processo_FG_Audit'\t\t\tTO N'E:\\feature01\\processo_FG_Audit.ndf',  \n",
                "MOVE N'processo_fg_pessoal'\t\t\tTO N'E:\\feature01\\processo_FG_Pessoal.ndf',  \n",
                "MOVE N'processo_fg_reservado'\t\tTO N'E:\\feature01\\processo_fg_reservado.ndf',  \n",
                "MOVE N'processo_fg_fiscal'\t\t\tTO N'E:\\feature01\\processo_FG_Fiscal.ndf', \n",
                "MOVE N'processo_fg_pessoal_idx'\t\tTO N'E:\\feature01\\processo_FG_Pessoal_idx.ndf',  \n",
                "MOVE N'processo_fg_reservado_idx'\tTO N'E:\\feature01\\processo_fg_reservado_idx.ndf',  \n",
                "MOVE N'processo_fg_fiscal_idx'\t\tTO N'E:\\feature01\\processo_FG_Fiscal_idx.ndf',  \n",
                "MOVE N'processo_fg_idx'\t\t\t\tTO N'E:\\feature01\\processo_fg_idx.ndf',  \n",
                "MOVE N'processo_Log'\t\t\t\tTO N'E:\\feature01\\Processo.ldf',  \n",
                "NOUNLOAD,  STATS = 5\n",
                "\n",
                "GO\n",
                "\n",
                "-- Bdfeature01 a partir de BANCO LIMPEZA\n",
                "\n",
                "\n",
                "\n",
                "\n",
                ""
            ],
            "metadata": {
                "azdata_cell_guid": "0ec08cf6-3d93-478f-bd3a-d0a0f65caf12"
            },
            "outputs": [],
            "execution_count": null
        },
        {
            "cell_type": "code",
            "source": [
                "-- BDFeature01\n",
                "\n",
                "SELECT TOP 5 *\n",
                "  FROM [Processo].[dbo].[Processos]\n",
                "  ORDER BY DataInclusao DESC\n",
                "\n",
                "  /****** Script for SelectTopNRows command from SSMS  ******/\n",
                "SELECT TOP 5 [IdOperador]\n",
                "      ,[IdSessao]\n",
                "      ,[Estacao]\n",
                "      ,[DataInicioSessao]\n",
                "      ,[DataFimSessao]\n",
                "      ,[ViaIP]\n",
                "      ,[Expiracao]\n",
                "  FROM [Processo].[dbo].[SysSessao]\n",
                "  order by IdSessao DESC\n",
                ""
            ],
            "metadata": {
                "azdata_cell_guid": "fd966930-4b37-4bb0-95fe-bb03358780f5"
            },
            "outputs": [],
            "execution_count": null
        },
        {
            "cell_type": "code",
            "source": [
                "USE [master]\n",
                "RESTORE DATABASE [Processo] \n",
                "FROM  DISK = N'\\\\fsbkp\\sql\\PRD-SQL01\\Processo_RESTORED_BdFeature_Apos_LIMPEZA.BAK' WITH  FILE = 1,  \n",
                "MOVE N'processo_Data'\t\t\t\tTO N'E:\\feature02\\Processo.mdf',  \n",
                "MOVE N'processo_FG_Audit'\t\t\tTO N'E:\\feature02\\processo_FG_Audit.ndf',  \n",
                "MOVE N'processo_fg_pessoal'\t\t\tTO N'E:\\feature02\\processo_FG_Pessoal.ndf',  \n",
                "MOVE N'processo_fg_reservado'\t\tTO N'E:\\feature02\\processo_fg_reservado.ndf',  \n",
                "MOVE N'processo_fg_fiscal'\t\t\tTO N'E:\\feature02\\processo_FG_Fiscal.ndf', \n",
                "MOVE N'processo_fg_pessoal_idx'\t\tTO N'E:\\feature02\\processo_FG_Pessoal_idx.ndf',  \n",
                "MOVE N'processo_fg_reservado_idx'\tTO N'E:\\feature02\\processo_fg_reservado_idx.ndf',  \n",
                "MOVE N'processo_fg_fiscal_idx'\t\tTO N'E:\\feature02\\processo_FG_Fiscal_idx.ndf',  \n",
                "MOVE N'processo_fg_idx'\t\t\t\tTO N'E:\\feature02\\processo_fg_idx.ndf',  \n",
                "MOVE N'processo_Log'\t\t\t\tTO N'E:\\feature02\\Processo.ldf',  \n",
                "NOUNLOAD,  STATS = 5\n",
                "\n",
                "GO\n",
                "\n",
                "-- Bdfeature01 a partir de BANCO LIMPEZA\n",
                "\n",
                "\n",
                "\n",
                "\n",
                ""
            ],
            "metadata": {
                "azdata_cell_guid": "8a5ed3ba-fb64-4e6d-acab-97ca108eb988"
            },
            "outputs": [],
            "execution_count": null
        },
        {
            "cell_type": "code",
            "source": [
                "USE [master]\n",
                "RESTORE DATABASE [Processo] \n",
                "FROM  DISK = N'\\\\fsbkp\\sql\\PRD-SQL01\\Processo_RESTORED_BdFeature_Apos_LIMPEZA.BAK' WITH  FILE = 1,  \n",
                "MOVE N'processo_Data'\t\t\t\tTO N'E:\\feature04\\Processo.mdf',  \n",
                "MOVE N'processo_FG_Audit'\t\t\tTO N'E:\\feature04\\processo_FG_Audit.ndf',  \n",
                "MOVE N'processo_fg_pessoal'\t\t\tTO N'E:\\feature04\\processo_FG_Pessoal.ndf',  \n",
                "MOVE N'processo_fg_reservado'\t\tTO N'E:\\feature04\\processo_fg_reservado.ndf',  \n",
                "MOVE N'processo_fg_fiscal'\t\t\tTO N'E:\\feature04\\processo_FG_Fiscal.ndf', \n",
                "MOVE N'processo_fg_pessoal_idx'\t\tTO N'E:\\feature04\\processo_FG_Pessoal_idx.ndf',  \n",
                "MOVE N'processo_fg_reservado_idx'\tTO N'E:\\feature04\\processo_fg_reservado_idx.ndf',  \n",
                "MOVE N'processo_fg_fiscal_idx'\t\tTO N'E:\\feature04\\processo_FG_Fiscal_idx.ndf',  \n",
                "MOVE N'processo_fg_idx'\t\t\t\tTO N'E:\\feature04\\processo_fg_idx.ndf',  \n",
                "MOVE N'processo_Log'\t\t\t\tTO N'E:\\feature04\\Processo.ldf',  \n",
                "NOUNLOAD,  STATS = 5\n",
                "\n",
                "GO\n",
                "\n",
                "-- Bdfeature03 a partir de BANCO LIMPEZA\n",
                "\n",
                "\n",
                "\n",
                "\n",
                ""
            ],
            "metadata": {
                "azdata_cell_guid": "dbb03039-bc52-4853-8a92-2e1d4bda434c"
            },
            "outputs": [],
            "execution_count": null
        }
    ]
}