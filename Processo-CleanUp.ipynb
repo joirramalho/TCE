{
    "metadata": {
        "kernelspec": {
            "name": "SQL",
            "display_name": "SQL",
            "language": "sql"
        },
        "language_info": {
            "name": "sql",
            "version": ""
        }
    },
    "nbformat_minor": 2,
    "nbformat": 4,
    "cells": [
        {
            "cell_type": "markdown",
            "source": [
                "\\# LOTES"
            ],
            "metadata": {
                "azdata_cell_guid": "87c82f2c-e7fe-4b4e-9caa-9cbbdc56dcf6"
            }
        },
        {
            "cell_type": "code",
            "source": [
                "IF NOT EXISTS( SELECT * FROM sys.indexes WHERE name='IX_Lotes_numero_lote_ano_lote' AND object_id = OBJECT_ID('dbo.Lotes') )\n",
                "BEGIN\n",
                "\tCREATE INDEX [IX_Lotes_numero_lote_ano_lote] ON [Processo].[dbo].[Lotes] ([numero_lote], [ano_lote]) INCLUDE ([origem], [destino], [enviado_em])\n",
                "END"
            ],
            "metadata": {
                "azdata_cell_guid": "0bed1ca7-0050-4920-9995-a7fac56e097f"
            },
            "outputs": [],
            "execution_count": null
        },
        {
            "cell_type": "markdown",
            "source": [
                "\\# Itens\\_Lote"
            ],
            "metadata": {
                "azdata_cell_guid": "5ac26e3e-3952-4151-87b1-50cb967d6423"
            }
        },
        {
            "cell_type": "code",
            "source": [
                "USE [Processo]\n",
                "GO\n",
                "\n",
                "IF EXISTS( SELECT * FROM sys.indexes WHERE name='IX_Itens_Lote_Recebido_por' AND object_id = OBJECT_ID('dbo.Itens_Lote') )\n",
                "BEGIN\n",
                "\tDROP INDEX [IX_Itens_Lote_Recebido_por] ON [dbo].[Itens_Lote];\n",
                "\n",
                "\tCREATE INDEX [IX_Itens_Lote_recebido_por] ON [Processo].[dbo].[Itens_Lote] ([recebido_por]) INCLUDE ([IdLote]);\n",
                "END"
            ],
            "metadata": {
                "azdata_cell_guid": "8beb5899-59ce-4b46-8689-66e917719e30"
            },
            "outputs": [],
            "execution_count": null
        },
        {
            "cell_type": "markdown",
            "source": [
                "\\# PROCESSOS"
            ],
            "metadata": {
                "azdata_cell_guid": "8b4f33d9-b9ee-46a6-b176-b58524ae9c17"
            }
        },
        {
            "cell_type": "code",
            "source": [
                "IF NOT EXISTS( SELECT * FROM sys.indexes WHERE name='IX_Processos_IdProcessoApensador' AND object_id = OBJECT_ID('dbo.Processos') )\n",
                "BEGIN\n",
                "\tCREATE INDEX [IX_Processos_IdProcessoApensador] ON [Processo].[dbo].[Processos] ([IdProcessoApensador])\n",
                "END\n",
                "\n",
                "\n",
                "\n",
                "IF EXISTS( SELECT * FROM sys.indexes WHERE name='[IX_Processos_Setor_Atual_numero_apensador_Ano_apensador_Digitalizacao]' AND object_id = OBJECT_ID('dbo.Processos') )\n",
                "BEGIN\n",
                "\tDROP INDEX [IX_Processos_Setor_Atual_numero_apensador_Ano_apensador_Digitalizacao] ON [dbo].[Processos];\n",
                "\n",
                "\n",
                "\tCREATE INDEX [IX_Processos_setor_atual] ON [Processo].[dbo].[Processos] ([setor_atual]) INCLUDE ([numero_processo], [ano_processo], [numero_apensador], [ano_apensador], [IdProcesso], [Digitalizacao], [DataDigitalizacao])\n",
                "END\n",
                ""
            ],
            "metadata": {
                "azdata_cell_guid": "46c7cd36-9f4d-493a-957b-82b91d1d1285"
            },
            "outputs": [],
            "execution_count": null
        },
        {
            "cell_type": "markdown",
            "source": [
                "\\# SiaiDP\\_Arquivo"
            ],
            "metadata": {
                "azdata_cell_guid": "2d49d3a5-bf12-4405-b1fa-c14260fb94cd"
            }
        },
        {
            "cell_type": "code",
            "source": [
                "IF NOT EXISTS( SELECT * FROM sys.indexes WHERE name='IX_SiaiDp_Arquivo_mes_ano' AND object_id = OBJECT_ID('dbo.SiaiDp_Arquivo') )\n",
                "BEGIN\n",
                "\tCREATE INDEX [IX_SiaiDp_Arquivo_mes_ano] ON [Processo].[dbo].[SiaiDp_Arquivo] ([mes], [ano]) INCLUDE ([codigoOrgao], [inativo])\n",
                "END"
            ],
            "metadata": {
                "azdata_cell_guid": "60adf163-4052-4cf1-abff-f8c013b47008"
            },
            "outputs": [],
            "execution_count": null
        },
        {
            "cell_type": "markdown",
            "source": [
                "\\# CRIAR IdProcesso em Ata\\_Informacao em Processo\\_Audit"
            ],
            "metadata": {
                "azdata_cell_guid": "cc96dc31-a777-497a-b1be-7ba02fdc5013"
            }
        },
        {
            "cell_type": "code",
            "source": [
                "USE [Processo_Audit]\n",
                "GO\n",
                "\n",
                "IF\tnot EXISTS\t\t( SELECT *\tFROM INFORMATION_SCHEMA.COLUMNS WHERE TABLE_NAME = 'Ata_Informacao_Audit'\tAND COLUMN_NAME = 'IdProcesso' )\n",
                "BEGIN\n",
                "\tBEGIN TRANSACTION\n",
                "\tSET QUOTED_IDENTIFIER ON\n",
                "\tSET ARITHABORT ON\n",
                "\tSET NUMERIC_ROUNDABORT OFF\n",
                "\tSET CONCAT_NULL_YIELDS_NULL ON\n",
                "\tSET ANSI_NULLS ON\n",
                "\tSET ANSI_PADDING ON\n",
                "\tSET ANSI_WARNINGS ON\n",
                "\tCOMMIT\n",
                "\n",
                "\tBEGIN TRANSACTION\n",
                "\n",
                "\tCREATE TABLE dbo.Tmp_Ata_Informacao_Audit\n",
                "\t\t(\n",
                "\t\tsetor varchar(10) NULL,\n",
                "\t\tnumero_processo char(6) NULL,\n",
                "\t\tano_processo char(4) NULL,\n",
                "\t\tordem int NULL,\n",
                "\t\tdata_resumo datetime NULL,\n",
                "\t\tresumo varchar(8000) NULL,\n",
                "\t\tsigilo char(1) NULL,\n",
                "\t\tusuario char(11) NULL,\n",
                "\t\tdata_ultima_atualizacao datetime NULL,\n",
                "\t\tinformacao_efetuada_por char(11) NULL,\n",
                "\t\tnome_informacao varchar(100) NULL,\n",
                "\t\tTitulo_Modelo_informacao varchar(100) NULL,\n",
                "\t\tTipo_documento char(2) NULL,\n",
                "\t\tDecisao char(2) NULL,\n",
                "\t\tidInformacao int NULL,\n",
                "\t\tinfConvPdf bit NULL,\n",
                "\t\tdataConversaoPDF datetime NULL,\n",
                "\t\tcodigo_camara char(1) NULL,\n",
                "\t\tIdSessao int NULL,\n",
                "\t\tDataInclusao datetime NULL,\n",
                "\t\tUsuarioInclusao varchar(50) NULL,\n",
                "\t\tErroConversao bit NULL,\n",
                "\t\tAssinado bit NULL,\n",
                "\t\tProcessoEletronico bit NULL,\n",
                "\t\tPublicado bit NULL,\n",
                "\t\tIdModelo int NULL,\n",
                "\t\tInativa bit NULL,\n",
                "\t\tDataPublicacao datetime NULL,\n",
                "\t\tIdInformacaoSubstituida int NULL,\n",
                "\t\tUsuarioInformacaoSubstituida varchar(11) NULL,\n",
                "\t\tDataInformacaoSubstituida datetime NULL,\n",
                "\t\tIdTipoParecer tinyint NULL,\n",
                "\t\tObservacao varchar(800) COLLATE Latin1_General_CI_AI NULL,\n",
                "\t\tIdProcesso int NULL,\n",
                "\t\tOperacao char(1) NULL,\n",
                "\t\tUsuarioConexao varchar(20) NULL,\n",
                "\t\tDataConexao datetime NULL\n",
                "\t\t)  ON [PRIMARY];\n",
                "\t\n",
                "\tALTER TABLE dbo.Tmp_Ata_Informacao_Audit SET (LOCK_ESCALATION = TABLE);\n",
                "\n",
                "--\tGRANT INSERT ON dbo.Tmp_Ata_Informacao_Audit TO uCertCrossDB  AS dbo;\n",
                "\n",
                "\tIF EXISTS(SELECT * FROM dbo.Ata_Informacao_Audit)\n",
                "\t\t EXEC('INSERT INTO dbo.Tmp_Ata_Informacao_Audit (setor, numero_processo, ano_processo, ordem, data_resumo, resumo, sigilo, usuario, data_ultima_atualizacao, informacao_efetuada_por, nome_informacao, Titulo_Modelo_informacao, Tipo_documento, Decisao, idInformacao, infConvPdf, dataConversaoPDF, codigo_camara, IdSessao, DataInclusao, UsuarioInclusao, ErroConversao, Assinado, ProcessoEletronico, Publicado, IdModelo, Inativa, DataPublicacao, IdInformacaoSubstituida, UsuarioInformacaoSubstituida, DataInformacaoSubstituida, IdTipoParecer, Observacao, Operacao, UsuarioConexao, DataConexao)\n",
                "\t\t\tSELECT setor, numero_processo, ano_processo, ordem, data_resumo, resumo, sigilo, usuario, data_ultima_atualizacao, informacao_efetuada_por, nome_informacao, Titulo_Modelo_informacao, Tipo_documento, Decisao, idInformacao, infConvPdf, dataConversaoPDF, codigo_camara, IdSessao, DataInclusao, UsuarioInclusao, ErroConversao, Assinado, ProcessoEletronico, Publicado, IdModelo, Inativa, DataPublicacao, IdInformacaoSubstituida, UsuarioInformacaoSubstituida, DataInformacaoSubstituida, IdTipoParecer, Observacao, Operacao, UsuarioConexao, DataConexao FROM dbo.Ata_Informacao_Audit WITH (HOLDLOCK TABLOCKX)');\n",
                "\n",
                "\tDROP TABLE dbo.Ata_Informacao_Audit;\n",
                "\t\n",
                "\tEXECUTE sp_rename N'dbo.Tmp_Ata_Informacao_Audit', N'Ata_Informacao_Audit', 'OBJECT' ;\n",
                "\t\n",
                "\tCOMMIT\n",
                "END"
            ],
            "metadata": {
                "azdata_cell_guid": "219a41f9-da0c-4e48-a161-fd0fdf23f594",
                "tags": []
            },
            "outputs": [],
            "execution_count": null
        },
        {
            "cell_type": "markdown",
            "source": [
                "\\# CRIAR IdProcesso em Ata\\_Informacao em Processo"
            ],
            "metadata": {
                "azdata_cell_guid": "3913592b-ba21-408a-acfc-9764ed613fd1"
            }
        },
        {
            "cell_type": "code",
            "source": [
                "USE PROCESSO;\n",
                "\n",
                "IF\tnot EXISTS\t\t( SELECT *\tFROM INFORMATION_SCHEMA.COLUMNS WHERE TABLE_NAME = 'Ata_Informacao'\tAND COLUMN_NAME = 'IdProcesso' )\n",
                "BEGIN\n",
                "\tBEGIN TRANSACTION\n",
                "\tSET QUOTED_IDENTIFIER ON\n",
                "\tSET ARITHABORT ON\n",
                "\tSET NUMERIC_ROUNDABORT OFF\n",
                "\tSET CONCAT_NULL_YIELDS_NULL ON\n",
                "\tSET ANSI_NULLS ON\n",
                "\tSET ANSI_PADDING ON\n",
                "\tSET ANSI_WARNINGS ON\n",
                "\tCOMMIT\n",
                "\tBEGIN TRANSACTION;\n",
                "\t\n",
                "\tALTER TABLE dbo.Ata_Informacao ADD\n",
                "\t\tIdProcesso int NULL;\n",
                "\t\n",
                "\tALTER TABLE dbo.Ata_Informacao SET (LOCK_ESCALATION = TABLE);\n",
                "\t\n",
                "\tCOMMIT\n",
                "END"
            ],
            "metadata": {
                "azdata_cell_guid": "402d391c-e29f-429e-88a2-25ea762d190a"
            },
            "outputs": [],
            "execution_count": null
        },
        {
            "cell_type": "markdown",
            "source": [
                "Trigger para SETAR IdProcesso em Ata\\_Informacao"
            ],
            "metadata": {
                "azdata_cell_guid": "72c074a0-a403-4161-9eb5-57ba8999c7b8"
            }
        },
        {
            "cell_type": "code",
            "source": [
                "USE Processo;\n",
                "\n",
                "IF EXISTS (SELECT * FROM sys.objects WHERE [name] = N'Setar_IdProcesso' AND [type] = 'TR')\n",
                "BEGIN\n",
                "\tDROP TRIGGER [dbo].[Setar_IdProcesso];\n",
                "END"
            ],
            "metadata": {
                "azdata_cell_guid": "be569de7-f946-4f63-87d9-e66e9a165441"
            },
            "outputs": [],
            "execution_count": null
        },
        {
            "cell_type": "code",
            "source": [
                "CREATE TRIGGER [dbo].[Setar_IdProcesso] ON [dbo].[Ata_Informacao] \n",
                "AFTER INSERT\n",
                "AS\n",
                "BEGIN\n",
                "\tDECLARE @IdProcesso\tINT\n",
                "\n",
                "\tSELECT IdProcesso = (\tSELECT\tIdProcesso FROM Processos \n",
                "\t\t\t\t\t\t\t\tWHERE\tano_processo\t\t= ( SELECT INSERTED.ano_processo\tFROM INSERTED )\n",
                "\t\t\t\t\t\t\t\t\t\tAND numero_processo = ( SELECT INSERTED.numero_processo\tFROM INSERTED ) )\t\n",
                "\t\t\n",
                "    UPDATE\tAta_Informacao\n",
                "    SET\t\tIdProcesso = @IdProcesso\n",
                "    FROM\tinserted\n",
                "    WHERE\t\t\tAta_Informacao.ano_processo\t\t= inserted.ano_processo \n",
                "\t\t\t\tAND Ata_Informacao.numero_processo\t= inserted.numero_processo\n",
                "\t\t\t\t\n",
                "\t\t\t\tAND inserted.IdProcesso IS NULL\n",
                "END"
            ],
            "metadata": {
                "azdata_cell_guid": "be5be038-8b1d-40dc-8943-43616f7901ea",
                "tags": []
            },
            "outputs": [],
            "execution_count": null
        },
        {
            "cell_type": "code",
            "source": [
                "DISABLE TRIGGER [dbo].[Setar_IdProcesso] ON [dbo].[ata_informacao]"
            ],
            "metadata": {
                "azdata_cell_guid": "3dc7090a-9e88-4bc1-b417-2cc424e6e628"
            },
            "outputs": [],
            "execution_count": null
        },
        {
            "cell_type": "code",
            "source": [
                "--SELECT numero_processo, ano_processo\n",
                "--FROM Ata_Informacao ata\n",
                "--WHERE NOT EXISTS(SELECT * FROM Processos p WHERE ata.ano_processo = p.ano_processo AND  ata.numero_processo = p.numero_processo)\n",
                "\n",
                "\n",
                "--SELECT COUNT(*) FROM Ata_Informacao"
            ],
            "metadata": {
                "azdata_cell_guid": "e5aec9e8-ea31-4707-b51d-eeca41ae7c5b"
            },
            "outputs": [],
            "execution_count": null
        },
        {
            "cell_type": "markdown",
            "source": [
                "# Índices de <span style=\"color: rgb(33, 33, 33); font-family: Menlo, Monaco, &quot;Courier New&quot;, monospace; font-size: 12px; white-space: pre;\">Dil_Diligencias</span>"
            ],
            "metadata": {
                "azdata_cell_guid": "62101415-5b41-4ff0-8e4b-d688ca7a6ec4"
            }
        },
        {
            "cell_type": "code",
            "source": [
                "USE Processo;\n",
                "\n",
                "IF EXISTS( SELECT * FROM sys.indexes WHERE name='PorOrgao' AND object_id = OBJECT_ID('dbo.Dil_Diligencias') )\n",
                "BEGIN\n",
                "\tDROP INDEX [PorOrgao] ON [dbo].[Dil_Diligencias];\n",
                "\n",
                "\tDROP INDEX [PorProcessoResposta] ON [dbo].[Dil_Diligencias];\n",
                "\n",
                "\tDROP INDEX [dil_diligencias_NumeroAnoResposta] ON [dbo].[Dil_Diligencias];\n",
                "\n",
                "\n",
                "\tCREATE INDEX [IX_Dil_Diligencias_IdProcesso] ON [Processo].[dbo].[Dil_Diligencias] ([IdProcesso])\n",
                "END"
            ],
            "metadata": {
                "azdata_cell_guid": "d1d473cc-9234-4394-9efb-2f7ad733193b"
            },
            "outputs": [],
            "execution_count": null
        },
        {
            "cell_type": "markdown",
            "source": [
                "# Ger\\_Chamados"
            ],
            "metadata": {
                "azdata_cell_guid": "45c9a276-676a-4729-b2f8-b3e17c4b0838"
            }
        },
        {
            "cell_type": "code",
            "source": [
                "IF NOT EXISTS( SELECT * FROM sys.indexes WHERE name='IX_Ger_Chamados__Status' AND object_id = OBJECT_ID('dbo.Ger_Chamados') )\n",
                "BEGIN\n",
                "\tCREATE INDEX [IX_Ger_Chamados__Status] ON [Processo].[dbo].[Ger_Chamados] ([Status]) INCLUDE ([DataInclusao]);\n",
                "END"
            ],
            "metadata": {
                "azdata_cell_guid": "3014e838-b7c0-48ba-a27d-896c8e13d5a7"
            },
            "outputs": [],
            "execution_count": null
        },
        {
            "cell_type": "markdown",
            "source": [
                "# Req\\_Requerimento"
            ],
            "metadata": {
                "azdata_cell_guid": "aa4a5449-6e38-44e4-9b1f-f5a9dc0a91d5"
            }
        },
        {
            "cell_type": "code",
            "source": [
                "IF NOT EXISTS( SELECT * FROM sys.indexes WHERE name='IX_Req_Requerimento__DataAssinatura_Status' AND object_id = OBJECT_ID('dbo.Req_Requerimento') )\n",
                "BEGIN\n",
                "\tCREATE INDEX [IX_Req_Requerimento__DataAssinatura_Status] ON [Processo].[dbo].[Req_Requerimento] ([DataAssinatura], [Status]) INCLUDE ([IdRequerimento]);\n",
                "END"
            ],
            "metadata": {
                "azdata_cell_guid": "01c6f2a1-1ff9-4a82-a54e-10fffffdab73"
            },
            "outputs": [],
            "execution_count": null
        },
        {
            "cell_type": "markdown",
            "source": [
                "# REMOVENDO FKs com tabelas PROCESSOS para poder remover PK de Processos incorreta e criar a NOVA PK por IdProcesso"
            ],
            "metadata": {
                "azdata_cell_guid": "4068c93c-78ed-46ed-af22-376fedcbe959"
            }
        },
        {
            "cell_type": "code",
            "source": [
                "USE [Processo]\n",
                "GO\n",
                "\n",
                "\n",
                "---\n",
                "ALTER TABLE [dbo].[Ale_Alerta] DROP CONSTRAINT [FK_Ale_Alerta_processos]\n",
                "\n",
                "---\n",
                "ALTER TABLE [dbo].[Pro_Resultados] DROP CONSTRAINT [FK_Pro_Resultados_processos]\n",
                "\n",
                "------\n",
                "\n",
                "ALTER TABLE [dbo].[Pro_ContratosTceAditivos] DROP CONSTRAINT [FK_Pro_ContratosTceAditivos_Processos]\n",
                "\n",
                "-----\n",
                "\n",
                "ALTER TABLE [dbo].[Pro_ContratosTce] DROP CONSTRAINT [FK_Pro_ContratosTce_Processos]\n",
                "\n",
                "------\n",
                "ALTER TABLE [dbo].[ComplementarProcesso] DROP CONSTRAINT [FK_ComplementarProcesso_processos]\n",
                "\n",
                "----\n",
                "\n",
                "ALTER TABLE [dbo].[Ata_Informacao] DROP CONSTRAINT [FK_ata_informacao_processos]\n",
                "\n",
                "---\n",
                "\n",
                "ALTER TABLE [dbo].[IrregularidadesProcesso] DROP CONSTRAINT [FK_IrregularidadesProcesso_processos]\n",
                "\n",
                "---\n",
                "\n",
                "ALTER TABLE [dbo].[Pro_MarcadorProcesso] DROP CONSTRAINT [FK_Pro_MarcadorProcesso_processos]\n",
                "\n",
                "-----\n",
                "\n",
                "ALTER TABLE [dbo].[Voto] DROP CONSTRAINT [FK_Voto_Voto]\n",
                "\n",
                "\n",
                "---\n",
                ""
            ],
            "metadata": {
                "azdata_cell_guid": "c5b14f62-7891-497c-b7d5-35d3f3e6d63d"
            },
            "outputs": [],
            "execution_count": null
        },
        {
            "cell_type": "code",
            "source": [
                "/* To prevent any potential data loss issues, you should review this script in detail before running it outside the context of the database designer.*/\n",
                "BEGIN TRANSACTION\n",
                "SET QUOTED_IDENTIFIER ON\n",
                "SET ARITHABORT ON\n",
                "SET NUMERIC_ROUNDABORT OFF\n",
                "SET CONCAT_NULL_YIELDS_NULL ON\n",
                "SET ANSI_NULLS ON\n",
                "SET ANSI_PADDING ON\n",
                "SET ANSI_WARNINGS ON\n",
                "COMMIT\n",
                "BEGIN TRANSACTION\n",
                "GO\n",
                "ALTER TABLE dbo.Processos\n",
                "\tDROP CONSTRAINT PK_processos\n",
                "GO\n",
                "ALTER TABLE dbo.Processos SET (LOCK_ESCALATION = TABLE)\n",
                "GO\n",
                "COMMIT"
            ],
            "metadata": {
                "azdata_cell_guid": "3f1dd74f-f857-4df9-915c-160629d90d82"
            },
            "outputs": [],
            "execution_count": null
        },
        {
            "cell_type": "code",
            "source": [
                "/* To prevent any potential data loss issues, you should review this script in detail before running it outside the context of the database designer.*/\n",
                "BEGIN TRANSACTION\n",
                "SET QUOTED_IDENTIFIER ON\n",
                "SET ARITHABORT ON\n",
                "SET NUMERIC_ROUNDABORT OFF\n",
                "SET CONCAT_NULL_YIELDS_NULL ON\n",
                "SET ANSI_NULLS ON\n",
                "SET ANSI_PADDING ON\n",
                "SET ANSI_WARNINGS ON\n",
                "COMMIT\n",
                "BEGIN TRANSACTION\n",
                "GO\n",
                "ALTER TABLE dbo.Processos ADD CONSTRAINT\n",
                "\tPK_Processos PRIMARY KEY CLUSTERED \n",
                "\t(\n",
                "\tIdProcesso\n",
                "\t) WITH( STATISTICS_NORECOMPUTE = OFF, IGNORE_DUP_KEY = OFF, ALLOW_ROW_LOCKS = ON, ALLOW_PAGE_LOCKS = ON) ON [PRIMARY]\n",
                "\n",
                "GO\n",
                "ALTER TABLE dbo.Processos SET (LOCK_ESCALATION = TABLE)\n",
                "GO\n",
                "COMMIT"
            ],
            "metadata": {
                "azdata_cell_guid": "2728391e-9a55-428a-a53b-b3925070db1e"
            },
            "outputs": [],
            "execution_count": null
        },
        {
            "cell_type": "markdown",
            "source": [
                "# REMOVER Índices inadequados em PROCESSOS"
            ],
            "metadata": {
                "azdata_cell_guid": "74966374-eb5d-487f-ab3d-5a1402488754"
            }
        },
        {
            "cell_type": "code",
            "source": [
                "-- numero_processo, ano_processo, etc\n",
                "\n",
                "IF EXISTS( SELECT * FROM sys.indexes WHERE name='por_ProcessoNaturezaApensadorSetor' AND object_id = OBJECT_ID('dbo.Processos') )\n",
                "BEGIN\n",
                "\tDROP INDEX [por_ProcessoNaturezaApensadorSetor] ON [dbo].[Processos];\n",
                "END\n",
                "\n",
                "IF EXISTS( SELECT * FROM sys.indexes WHERE name='por_idProcesso' AND object_id = OBJECT_ID('dbo.Processos') )\n",
                "BEGIN\n",
                "\tDROP INDEX [por_idProcesso] ON [dbo].[Processos];\n",
                "END"
            ],
            "metadata": {
                "azdata_cell_guid": "d0211ebf-606d-474e-b37c-8933fa5079fd"
            },
            "outputs": [],
            "execution_count": null
        },
        {
            "cell_type": "code",
            "source": [
                "ALTER TABLE [dbo].[Itens_Lote] DROP CONSTRAINT [FK_Itens_Lote_Processos]\n",
                "\n",
                "\n",
                "ALTER TABLE [dbo].[Cit_Citacoes] DROP CONSTRAINT [FK_Cit_Citacoes_Processos]\n",
                "\n",
                "\n",
                "ALTER TABLE [dbo].[Comunicacao_Econsulta] DROP CONSTRAINT [FK_Comunicacao_Econsulta_Processos]\n",
                "\n",
                "\n",
                "ALTER TABLE [dbo].[Dil_Diligencias] DROP CONSTRAINT [FK_Dil_Diligencias_Processos]\n",
                "\n",
                "\n",
                "ALTER TABLE [dbo].[Rtt_PessoaPeriodo] DROP CONSTRAINT [FK_Rtt_PessoaPeriodo_Processos]\n",
                "\n",
                "\n",
                "ALTER TABLE [dbo].[Pro_RelatorRedistribuicaoImpedimento] DROP CONSTRAINT [FK_Pro_RelatorRedistribuicaoImpedimento_Processos]\n",
                "\n",
                "\n",
                "ALTER TABLE [dbo].[Ocp_NotaFiscal] DROP CONSTRAINT [FK_Ocp_NotaFiscal_processos]\n",
                "\n",
                "\n",
                "ALTER TABLE [dbo].[Pro_GestaoDocumento] DROP CONSTRAINT [FK_IdProcesso_Pro_GestaoDocumento_Processos]\n",
                "\n",
                "\n",
                "ALTER TABLE [dbo].[Voto] DROP CONSTRAINT [FK_Voto_Processos]"
            ],
            "metadata": {
                "azdata_cell_guid": "83219dc0-cba5-4aa5-a498-5b7db613ed45"
            },
            "outputs": [],
            "execution_count": null
        },
        {
            "cell_type": "code",
            "source": [
                "-- REMOVER índices por IdProcesso após ser CRIADA NOVA Chave primária em Processos\n",
                "\n",
                "\n",
                "IF EXISTS( SELECT * FROM sys.indexes WHERE name='por_idProcesso' AND object_id = OBJECT_ID('dbo.Processos') )\n",
                "BEGIN\n",
                "\tDROP INDEX [por_idProcesso] ON [dbo].[Processos];\n",
                "END"
            ],
            "metadata": {
                "azdata_cell_guid": "9a566b0b-6007-498b-996e-98957c7c41d8"
            },
            "outputs": [],
            "execution_count": null
        },
        {
            "cell_type": "code",
            "source": [
                "-- RECRIANDO FKs\n",
                "\n",
                "\tALTER TABLE [dbo].[Itens_Lote]  WITH CHECK ADD  CONSTRAINT [FK_Itens_Lote_Processos] FOREIGN KEY([IdProcesso])\n",
                "\tREFERENCES [dbo].[Processos] ([IdProcesso])\n",
                "\tGO\n",
                "\n",
                "\tALTER TABLE [dbo].[Itens_Lote] CHECK CONSTRAINT [FK_Itens_Lote_Processos]\n",
                "\tGO\n",
                "\n",
                "\tALTER TABLE [dbo].[Cit_Citacoes]  WITH CHECK ADD  CONSTRAINT [FK_Cit_Citacoes_Processos] FOREIGN KEY([IdProcesso])\n",
                "\tREFERENCES [dbo].[Processos] ([IdProcesso])\n",
                "\tGO\n",
                "\n",
                "\tALTER TABLE [dbo].[Cit_Citacoes] CHECK CONSTRAINT [FK_Cit_Citacoes_Processos]\n",
                "\tGO\n",
                "\n",
                "\tALTER TABLE [dbo].[Comunicacao_Econsulta]  WITH CHECK ADD  CONSTRAINT [FK_Comunicacao_Econsulta_Processos] FOREIGN KEY([IdProcesso])\n",
                "\tREFERENCES [dbo].[Processos] ([IdProcesso])\n",
                "\tGO\n",
                "\n",
                "\tALTER TABLE [dbo].[Comunicacao_Econsulta] CHECK CONSTRAINT [FK_Comunicacao_Econsulta_Processos]\n",
                "\tGO\n",
                "\n",
                "\tALTER TABLE [dbo].[Dil_Diligencias]  WITH CHECK ADD  CONSTRAINT [FK_Dil_Diligencias_Processos] FOREIGN KEY([IdProcesso])\n",
                "\tREFERENCES [dbo].[Processos] ([IdProcesso])\n",
                "\tGO\n",
                "\n",
                "\tALTER TABLE [dbo].[Dil_Diligencias] CHECK CONSTRAINT [FK_Dil_Diligencias_Processos]\n",
                "\tGO\n",
                "\n",
                "\tALTER TABLE [dbo].[Rtt_PessoaPeriodo]  WITH CHECK ADD  CONSTRAINT [FK_Rtt_PessoaPeriodo_Processos] FOREIGN KEY([IdProcesso])\n",
                "\tREFERENCES [dbo].[Processos] ([IdProcesso])\n",
                "\tGO\n",
                "\n",
                "\tALTER TABLE [dbo].[Rtt_PessoaPeriodo] CHECK CONSTRAINT [FK_Rtt_PessoaPeriodo_Processos]\n",
                "\tGO\n",
                "\n",
                "\tALTER TABLE [dbo].[Pro_RelatorRedistribuicaoImpedimento]  WITH CHECK ADD  CONSTRAINT [FK_Pro_RelatorRedistribuicaoImpedimento_Processos] FOREIGN KEY([idProcesso])\n",
                "\tREFERENCES [dbo].[Processos] ([IdProcesso])\n",
                "\tGO\n",
                "\n",
                "\tALTER TABLE [dbo].[Pro_RelatorRedistribuicaoImpedimento] CHECK CONSTRAINT [FK_Pro_RelatorRedistribuicaoImpedimento_Processos]\n",
                "\tGO\n",
                "\n",
                "\tALTER TABLE [dbo].[Ocp_NotaFiscal]  WITH CHECK ADD  CONSTRAINT [FK_Ocp_NotaFiscal_processos] FOREIGN KEY([idProcesso])\n",
                "\tREFERENCES [dbo].[Processos] ([IdProcesso])\n",
                "\tGO\n",
                "\n",
                "\tALTER TABLE [dbo].[Ocp_NotaFiscal] CHECK CONSTRAINT [FK_Ocp_NotaFiscal_processos]\n",
                "\tGO\n",
                "\n",
                "\tALTER TABLE [dbo].[Pro_GestaoDocumento]  WITH CHECK ADD  CONSTRAINT [FK_IdProcesso_Pro_GestaoDocumento_Processos] FOREIGN KEY([Idprocesso])\n",
                "\tREFERENCES [dbo].[Processos] ([IdProcesso])\n",
                "\tGO\n",
                "\n",
                "\tALTER TABLE [dbo].[Pro_GestaoDocumento] CHECK CONSTRAINT [FK_IdProcesso_Pro_GestaoDocumento_Processos]\n",
                "\tGO\n",
                "\n",
                "\tALTER TABLE [dbo].[Voto]  WITH CHECK ADD  CONSTRAINT [FK_Voto_Processos] FOREIGN KEY([IdProcesso])\n",
                "\tREFERENCES [dbo].[Processos] ([IdProcesso])\n",
                "\tGO\n",
                "\n",
                "\tALTER TABLE [dbo].[Voto] CHECK CONSTRAINT [FK_Voto_Processos]\n",
                "\tGO"
            ],
            "metadata": {
                "azdata_cell_guid": "dba59a31-228e-4222-8494-5298a83a35dc"
            },
            "outputs": [],
            "execution_count": null
        },
        {
            "cell_type": "code",
            "source": [
                "-- sigla_origem, codigo_tipo_processo, ano_referencia, mes_referencia\n",
                "\n",
                "IF EXISTS( SELECT * FROM sys.indexes WHERE name='por_tipo_siglaorigem_ano_mes' AND object_id = OBJECT_ID('dbo.Processos') )\n",
                "BEGIN\n",
                "\tDROP INDEX [por_tipo_siglaorigem_ano_mes] ON [dbo].[Processos];\n",
                "END"
            ],
            "metadata": {
                "azdata_cell_guid": "4c425682-8573-42e3-86d5-374af65926f0"
            },
            "outputs": [],
            "execution_count": null
        },
        {
            "cell_type": "code",
            "source": [
                "-- RECRIANDDO FKs\n",
                "\n",
                "\n",
                "\tALTER TABLE [dbo].[Ale_Alerta]  WITH CHECK ADD  CONSTRAINT [FK_Ale_Alerta_processos] FOREIGN KEY([AnoDocumento], [NumeroDocumento] )\n",
                "\tREFERENCES [dbo].[Processos] ([ano_processo], [numero_processo])\n",
                "\tGO\n",
                "\n",
                "\tALTER TABLE [dbo].[Ale_Alerta] CHECK CONSTRAINT [FK_Ale_Alerta_processos]\n",
                "\tGO\n",
                "\n",
                "\n",
                "\tALTER TABLE [dbo].[Pro_Resultados]  WITH CHECK ADD  CONSTRAINT [FK_Pro_Resultados_processos] FOREIGN KEY([ano_processo], [numero_processo])\n",
                "\tREFERENCES [dbo].[Processos] ([ano_processo], [numero_processo])\n",
                "\tGO\n",
                "\n",
                "\tALTER TABLE [dbo].[Pro_Resultados] CHECK CONSTRAINT [FK_Pro_Resultados_processos]\n",
                "\tGO\n",
                "\n",
                "\tALTER TABLE [dbo].[Pro_ContratosTceAditivos]  WITH CHECK ADD  CONSTRAINT [FK_Pro_ContratosTceAditivos_Processos] FOREIGN KEY([AnoProcessoAditivo], [NumeroProcessoAditivo])\n",
                "\tREFERENCES [dbo].[Processos] ([ano_processo], [numero_processo])\n",
                "\tGO\n",
                "\n",
                "\tALTER TABLE [dbo].[Pro_ContratosTceAditivos] CHECK CONSTRAINT [FK_Pro_ContratosTceAditivos_Processos]\n",
                "\tGO\n",
                "\n",
                "\tALTER TABLE [dbo].[Pro_ContratosTce]  WITH CHECK ADD  CONSTRAINT [FK_Pro_ContratosTce_Processos] FOREIGN KEY([AnoProcesso], [NumeroProcesso])\n",
                "\tREFERENCES [dbo].[Processos] ([ano_processo], [numero_processo])\n",
                "\tGO\n",
                "\n",
                "\tALTER TABLE [dbo].[Pro_ContratosTce] CHECK CONSTRAINT [FK_Pro_ContratosTce_Processos]\n",
                "\tGO\n",
                "\n",
                "\tALTER TABLE [dbo].[ComplementarProcesso]  WITH CHECK ADD  CONSTRAINT [FK_ComplementarProcesso_processos] FOREIGN KEY([ano_processo], [numero_processo])\n",
                "\tREFERENCES [dbo].[Processos] ([ano_processo], [numero_processo])\n",
                "\tGO\n",
                "\n",
                "\tALTER TABLE [dbo].[ComplementarProcesso] CHECK CONSTRAINT [FK_ComplementarProcesso_processos]\n",
                "\tGO\n",
                "\n",
                "\tALTER TABLE [dbo].[Ata_Informacao]  WITH CHECK ADD  CONSTRAINT [FK_ata_informacao_processos] FOREIGN KEY([ano_processo], [numero_processo])\n",
                "\tREFERENCES [dbo].[Processos] ([ano_processo], [numero_processo])\n",
                "\tGO\n",
                "\n",
                "\tALTER TABLE [dbo].[Ata_Informacao] CHECK CONSTRAINT [FK_ata_informacao_processos]\n",
                "\tGO\n",
                "\n",
                "\tALTER TABLE [dbo].[IrregularidadesProcesso]  WITH CHECK ADD  CONSTRAINT [FK_IrregularidadesProcesso_processos] FOREIGN KEY([ano_processo], [numero_processo])\n",
                "\tREFERENCES [dbo].[Processos] ([ano_processo],[numero_processo])\n",
                "\tGO\n",
                "\n",
                "\tALTER TABLE [dbo].[IrregularidadesProcesso] CHECK CONSTRAINT [FK_IrregularidadesProcesso_processos]\n",
                "\tGO\n",
                "\n",
                "\tALTER TABLE [dbo].[Pro_MarcadorProcesso]  WITH CHECK ADD  CONSTRAINT [FK_Pro_MarcadorProcesso_processos] FOREIGN KEY([Ano_Processo], [Numero_Processo])\n",
                "\tREFERENCES [dbo].[Processos] ([ano_processo], [numero_processo])\n",
                "\tGO\n",
                "\n",
                "\tALTER TABLE [dbo].[Pro_MarcadorProcesso] CHECK CONSTRAINT [FK_Pro_MarcadorProcesso_processos]\n",
                "\tGO"
            ],
            "metadata": {
                "azdata_cell_guid": "6cb0be96-a9a9-487c-8fd8-f0aaf7992968"
            },
            "outputs": [],
            "execution_count": null
        },
        {
            "cell_type": "code",
            "source": [
                "ALTER TABLE [dbo].Ale_Alerta DROP CONSTRAINT [FK_Ale_Alerta_Ale_Alerta]"
            ],
            "metadata": {
                "azdata_cell_guid": "1284c663-6cc9-4373-89db-d4caaecb1537"
            },
            "outputs": [],
            "execution_count": null
        },
        {
            "cell_type": "code",
            "source": [
                "-- NAO EXECUTAR\n",
                "-- UPDATE EM Ata_Informacao\n",
                "\n",
                "\n",
                "--     ALTER DATABASE [PROCESSO] SET  SINGLE_USER WITH ROLLBACK IMMEDIATE;\n",
                "--     GO\n",
                "\n",
                "-- \tDISABLE TRIGGER [dbo].[tg_ata_informacao_D] ON [dbo].[ata_informacao] \n",
                "-- \tDISABLE TRIGGER [dbo].[tg_ata_informacao_ins] ON [dbo].[ata_informacao] \n",
                "-- \tDISABLE TRIGGER [dbo].[tg_ata_informacao_upd] ON [dbo].[ata_informacao] \n",
                "\n",
                "-- begin tran\n",
                "\n",
                "-- UPDATE Ata_Informacao \n",
                "-- SET Ata_Informacao.IdProcesso = p.IdProcesso\n",
                "--     FROM Ata_Informacao ata \n",
                "-- \tINNER JOIN Processos p ON ata.ano_processo = p.ano_processo AND ata.numero_processo = p.numero_processo AND  ata.IdProcesso IS NULL  \n",
                "-- --    WHERE ata.idInformacao = 4\n",
                "\n",
                "-- --ENABLE TRIGGER [dbo].[atualiza_setor_atual_update] ON [dbo].[Itens_Lote] \n",
                "\n",
                "--     --commit\n",
                "--     --rollback\n",
                "\n",
                "-- \tENABLE TRIGGER [dbo].[tg_ata_informacao_D] ON [dbo].[ata_informacao]\n",
                "-- \tGO\n",
                "-- \tENABLE TRIGGER [dbo].[tg_ata_informacao_ins] ON [dbo].[ata_informacao]\n",
                "-- \tGO \n",
                "-- \tENABLE TRIGGER [dbo].[tg_ata_informacao_upd] ON [dbo].[ata_informacao] \n",
                "-- \tGO\n",
                "\n",
                "--     ALTER DATABASE [PROCESSO] SET  MULTI_USER WITH ROLLBACK IMMEDIATE;\n",
                "--     GO"
            ],
            "metadata": {
                "azdata_cell_guid": "5e258ca3-8c6f-4110-88b1-8bc977a2ee70"
            },
            "outputs": [],
            "execution_count": null
        },
        {
            "cell_type": "code",
            "source": [
                "-- select top 20 * from processos pro (NOLOCK)\n",
                "-- where (SELECT top 1 Destino\n",
                "-- FROM Lotes lo (NOLOCK)\n",
                "-- INNER JOIN Itens_lote il (NOLOCK) on lo.IdLote = il.IdLote\n",
                "-- WHERE pro.idprocesso = il.idprocesso\n",
                "-- AND lo.enviado_em >'2021-01-01'\n",
                "-- --AND pro.setor_atual <> lo.destino\n",
                "-- order by lo.enviado_em DESC\n",
                "-- )<> pro.setor_atual\n",
                "-- AND Setor_atual <> 'ARQMORTO'"
            ],
            "metadata": {
                "azdata_cell_guid": "b7cb46a3-28d0-4806-bfad-db475109dfb4"
            },
            "outputs": [],
            "execution_count": null
        }
    ]
}