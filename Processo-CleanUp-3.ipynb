{
    "metadata": {
        "kernelspec": {
            "name": "SQL",
            "display_name": "SQL",
            "language": "sql"
        },
        "language_info": {
            "name": "sql",
            "version": ""
        }
    },
    "nbformat_minor": 2,
    "nbformat": 4,
    "cells": [
        {
            "cell_type": "code",
            "source": [
                "-- parte 1\n",
                "\n",
                "IF NOT EXISTS( SELECT * FROM sys.indexes WHERE name='IX_SiaiDp_FpContraChequeItem_idfpcontracheque' AND object_id = OBJECT_ID('dbo.SiaiDp_FpContraChequeItem') )\n",
                "BEGIN\n",
                "    CREATE INDEX [IX_SiaiDp_FpContraChequeItem_idfpcontracheque] ON [Processo].[dbo].[SiaiDp_FpContraChequeItem] ([idfpcontracheque]) INCLUDE ([Idfpitemcontracheque], [valor], [mesref], [anoref])\n",
                "END"
            ],
            "metadata": {
                "azdata_cell_guid": "2b6658b0-4539-4719-a3c7-9d42147dc8c5"
            },
            "outputs": [],
            "execution_count": null
        },
        {
            "cell_type": "code",
            "source": [
                "-- parte 2\n",
                "\n",
                "IF NOT EXISTS( SELECT * FROM sys.indexes WHERE name='IX_Lrf_Distribuicao_usuario_data_fim_analise' AND object_id = OBJECT_ID('dbo.SiaiDp_FpContraChequeItem') )\n",
                "BEGIN\n",
                "    CREATE INDEX [IX_Lrf_Distribuicao_usuario_data_fim_analise] ON [Processo].[dbo].[Lrf_Distribuicao] ([usuario], [data_fim_analise])\n",
                "END"
            ],
            "metadata": {
                "azdata_cell_guid": "456dff56-3c09-4abf-a457-e85b0d76181b"
            },
            "outputs": [],
            "execution_count": null
        },
        {
            "cell_type": "code",
            "source": [
                "-- parte 3\n",
                "\n",
                "IF NOT EXISTS( SELECT * FROM sys.indexes WHERE name='IX_Ata_Informacao_setor_IdModelo_Inativa' AND object_id = OBJECT_ID('dbo.Ata_Informacao') )\n",
                "BEGIN\n",
                "    CREATE INDEX [IX_Ata_Informacao_setor_IdModelo_Inativa] ON [Processo].[dbo].[Ata_Informacao] ([setor], [IdModelo], [Inativa]) INCLUDE ([numero_processo], [ano_processo], [idInformacao], [Publicado])\n",
                "END"
            ],
            "metadata": {
                "azdata_cell_guid": "c18192ef-4a44-47bc-8342-170e5d27e535"
            },
            "outputs": [],
            "execution_count": null
        },
        {
            "cell_type": "code",
            "source": [
                "-- parte 4\n",
                "\n",
                "IF EXISTS( SELECT * FROM sys.indexes WHERE name='[IX_Processos_setor_atual]' AND object_id = OBJECT_ID('dbo.Processos') )\n",
                "BEGIN\n",
                "\tDROP INDEX [IX_Processos_setor_atual] ON [dbo].[Processos];\n",
                "\n",
                "\tDROP INDEX [porDataDigitalizacao] ON [dbo].[Processos];\n",
                "END\n",
                "\n",
                "IF NOT EXISTS( SELECT * FROM sys.indexes WHERE name='IX_Ata_Informacao_setor_IdModelo_Inativa' AND object_id = OBJECT_ID('dbo.Processos') )\n",
                "BEGIN\n",
                "    CREATE INDEX [IX_Processos_setor_atual_numero_apensador_Digitalizacao] ON [Processo].[dbo].[Processos] ([setor_atual], [numero_apensador],[Digitalizacao])\n",
                "END"
            ],
            "metadata": {
                "azdata_cell_guid": "eb3e275d-375d-48e1-b486-86fa95c162d8"
            },
            "outputs": [],
            "execution_count": null
        },
        {
            "cell_type": "code",
            "source": [
                "-- parte 5\n",
                "\n",
                "IF NOT EXISTS( SELECT * FROM sys.indexes WHERE name='IX_Ger_Chamados_ProblemaRecorrente_Status' AND object_id = OBJECT_ID('dbo.Ger_Chamados') )\n",
                "BEGIN\n",
                "    CREATE INDEX [IX_Ger_Chamados_ProblemaRecorrente_Status] ON [Processo].[dbo].[Ger_Chamados] ([ProblemaRecorrente],[Status])\n",
                "END"
            ],
            "metadata": {
                "azdata_cell_guid": "85859033-4c4c-4c24-bc77-cf74369aa7d5"
            },
            "outputs": [],
            "execution_count": null
        },
        {
            "cell_type": "code",
            "source": [
                "-- parte 6\n",
                "\n",
                "-- MUDANCA de BANCO\n",
                "-- ATENCAO\n",
                "    -- [Processo_Archive].[dbo].[SysSessao_Archive]\n",
                "\n",
                "IF NOT EXISTS( SELECT * FROM sys.indexes WHERE name='IX_SysSessao_Archive_IdSessao' AND object_id = OBJECT_ID('dbo.SysSessao_Archive') )\n",
                "BEGIN\n",
                "    CREATE INDEX [IX_SysSessao_Archive_IdSessao] ON [Processo_Archive].[dbo].[SysSessao_Archive] ([IdSessao])\n",
                "END"
            ],
            "metadata": {
                "azdata_cell_guid": "1ee6c51a-8ec0-4bb1-ad67-7ed811a0eb2c"
            },
            "outputs": [],
            "execution_count": null
        },
        {
            "cell_type": "code",
            "source": [
                "-- parte 7\n",
                "\n",
                "-- ATENCAO\n",
                "    -- [TempWebProcesso].[dbo].[EscPessoaTemp]\n",
                "\n",
                "IF NOT EXISTS( SELECT * FROM sys.indexes WHERE name='IX_EscPessoaTemp_Flag' AND object_id = OBJECT_ID('dbo.EscPessoaTemp') )\n",
                "BEGIN\n",
                "    CREATE INDEX [IX_EscPessoaTemp_Flag] ON [TempWebProcesso].[dbo].[EscPessoaTemp] ([Flag])\n",
                "    CREATE INDEX [IX_Exe_Boleto_Temp_Flag] ON [TempWebProcesso].[dbo].[Exe_Boleto_Temp] ([Flag])\n",
                "    CREATE INDEX [IX_Exe_Parcela_Temp_Flag] ON [TempWebProcesso].[dbo].[Exe_Parcela_Temp] ([Flag])\n",
                "END"
            ],
            "metadata": {
                "azdata_cell_guid": "f32eeac5-ece3-4fde-bdc1-7c8d79f79d4c"
            },
            "outputs": [],
            "execution_count": null
        },
        {
            "cell_type": "code",
            "source": [
                "-- parte 8\n",
                "\n",
                "IF NOT EXISTS( SELECT * FROM sys.indexes WHERE name='IX_Adm_Ponto_Just_usuario_DataInclusao' AND object_id = OBJECT_ID('dbo.Adm_Ponto_Just') )\n",
                "BEGIN\n",
                "    CREATE INDEX [IX_Adm_Ponto_Just_usuario_DataInclusao] ON [Processo].[dbo].[Adm_Ponto_Just] ([usuario],[DataInclusao]) INCLUDE ([id], [data], [HoraEntrada], [HoraSaidaAlmoco], [HoraVoltaAlmoco], [HoraSaida], [QtdHoras], [descricao], [IdMotivoAusencia], [ResultadoAvaliacao], [ObsDiretor], [Anexo], [qtdminutos])\n",
                "END\n",
                "\n",
                "\n",
                "\n",
                "IF EXISTS( SELECT * FROM sys.indexes WHERE name='PorMotivoAusencia' AND object_id = OBJECT_ID('dbo.Adm_Ponto_Just') )\n",
                "BEGIN\n",
                "\tDROP INDEX [PorMotivoAusencia] ON [dbo].[Adm_Ponto_Just];\n",
                "\tDROP INDEX [por_setor] ON [dbo].[Adm_Ponto_Just];\n",
                "    DROP INDEX [missing_index_161] ON [dbo].[Adm_Ponto_Just];\n",
                "END"
            ],
            "metadata": {
                "azdata_cell_guid": "d4699a87-fc12-4546-ba44-38c6d0bfddc3"
            },
            "outputs": [],
            "execution_count": null
        }
    ]
}